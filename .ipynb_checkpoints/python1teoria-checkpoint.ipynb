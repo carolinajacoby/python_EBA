{
 "cells": [
  {
   "cell_type": "markdown",
   "id": "7428adc7-7719-4a5b-8b3a-d0189aa81e66",
   "metadata": {},
   "source": [
    "# Função print \n",
    "Serve para exibir informações na tela.\n",
    "\n",
    "- Sintaxe base\n",
    "\n",
    "print(object(s),sep =separator,end=end,file=file,flush=flush"
   ]
  },
  {
   "cell_type": "code",
   "execution_count": 11,
   "id": "23473b81-1851-4532-8119-282faa02601a",
   "metadata": {},
   "outputs": [
    {
     "name": "stdout",
     "output_type": "stream",
     "text": [
      "Olá, sou o assistente de atendimento. Como você se chama?\n"
     ]
    },
    {
     "name": "stdin",
     "output_type": "stream",
     "text": [
      " Carol\n"
     ]
    },
    {
     "name": "stdout",
     "output_type": "stream",
     "text": [
      "Ola,Carol. Em que posso ajudar?\n"
     ]
    }
   ],
   "source": [
    "print(\"Olá, sou o assistente de atendimento. Como você se chama?\")\n",
    "nome = input()\n",
    "print(\"Ola,\"+ nome + \". Em que posso ajudar?\")"
   ]
  },
  {
   "cell_type": "markdown",
   "id": "63b6a34c-9ba3-437a-870d-c8cf4f04df03",
   "metadata": {},
   "source": [
    "- sep : separador, que especifica como juntar os objetos\n",
    "- sep =\",\" vai colocar , no meio das strings"
   ]
  },
  {
   "cell_type": "code",
   "execution_count": 12,
   "id": "87d7ff16-e28b-43be-ace9-979b85173ab4",
   "metadata": {},
   "outputs": [
    {
     "name": "stdout",
     "output_type": "stream",
     "text": [
      "Ola mundo,Eu sou a Carolina,Esse é um curso de python para análise de dados\n"
     ]
    }
   ],
   "source": [
    "print('Ola mundo','Eu sou a Carolina', 'Esse é um curso de python para análise de dados',sep = \",\")"
   ]
  },
  {
   "cell_type": "markdown",
   "id": "2ca0b559-48b4-421b-b299-c18d2cc8343e",
   "metadata": {},
   "source": [
    "- end : caractere que fica no fim da linha\n",
    "  "
   ]
  },
  {
   "cell_type": "code",
   "execution_count": 13,
   "id": "2e896ac3-8997-456e-8199-4c36be654ab7",
   "metadata": {},
   "outputs": [
    {
     "name": "stdout",
     "output_type": "stream",
     "text": [
      "Ola\n",
      "Tchau\n"
     ]
    }
   ],
   "source": [
    "print(\"Ola\")\n",
    "print(\"Tchau\")"
   ]
  },
  {
   "cell_type": "code",
   "execution_count": 14,
   "id": "2dca880c-4204-45f1-ba37-658b9604f5b6",
   "metadata": {},
   "outputs": [
    {
     "name": "stdout",
     "output_type": "stream",
     "text": [
      "Ola Tchau\n"
     ]
    }
   ],
   "source": [
    "print(\"Ola\", end =\" \")  # não pula a linha, somente dá um espaço ou qlq coisa que eu colocar no end\n",
    "print(\"Tchau\")"
   ]
  },
  {
   "cell_type": "markdown",
   "id": "8b61e33b-37f3-4c5d-952f-6e31444a6693",
   "metadata": {},
   "source": [
    "# Função input\n",
    "Sintaxe : input(prompt='')\n",
    "Parametros: prompt(opcional,padrao:*) \n",
    "- Exibe uma mensagem antes do usuário para fornecer contexto"
   ]
  },
  {
   "cell_type": "code",
   "execution_count": 15,
   "id": "c0c8c412-3da2-426a-946c-3d1098202615",
   "metadata": {},
   "outputs": [
    {
     "name": "stdin",
     "output_type": "stream",
     "text": [
      "Qual a sua idade? 15\n"
     ]
    },
    {
     "name": "stdout",
     "output_type": "stream",
     "text": [
      "15\n"
     ]
    }
   ],
   "source": [
    "idade = input(\"Qual a sua idade?\")\n",
    "print(idade)"
   ]
  },
  {
   "cell_type": "code",
   "execution_count": 16,
   "id": "8f9df7b2-7945-41c3-959b-471c793aa1b2",
   "metadata": {},
   "outputs": [
    {
     "name": "stdin",
     "output_type": "stream",
     "text": [
      "Olá, sou o assistente de atendimento. Como você se chama? Carol\n"
     ]
    },
    {
     "name": "stdout",
     "output_type": "stream",
     "text": [
      "Ola,Carol. Em que posso ajudar?\n"
     ]
    }
   ],
   "source": [
    "nome = input (\"Olá, sou o assistente de atendimento. Como você se chama?\")\n",
    "print(\"Ola,\"+ nome + \". Em que posso ajudar?\")"
   ]
  },
  {
   "cell_type": "markdown",
   "id": "f16f5c08-548e-4e34-bb32-9c0388850852",
   "metadata": {},
   "source": [
    "# Comentários\n",
    "Um texto que não é código, onde devemos colocar informações sobre o que o código faz"
   ]
  },
  {
   "cell_type": "code",
   "execution_count": 17,
   "id": "141718e4-d9a2-40d8-971e-ea6e5bae6ca2",
   "metadata": {},
   "outputs": [
    {
     "data": {
      "text/plain": [
       "' \\ncomentário grande \\n1.\\n2.\\n3.\\nbla bla bla\\nbla bla bla\\n'"
      ]
     },
     "execution_count": 17,
     "metadata": {},
     "output_type": "execute_result"
    }
   ],
   "source": [
    "\"\"\" \n",
    "comentário grande \n",
    "1.\n",
    "2.\n",
    "3.\n",
    "bla bla bla\n",
    "bla bla bla\n",
    "\"\"\"\n"
   ]
  },
  {
   "cell_type": "markdown",
   "id": "f3a3f81d-d02c-4d6d-9fdd-4ac9e722988e",
   "metadata": {},
   "source": [
    "# Variáveis\n",
    "Uma \"caixa\" que usamos para armazenar uma informação, pode ser número, texto, imagem, tabela, etc.\n",
    "é um dado registrado na memória do computador.\n",
    "\n",
    "## Atribuição\n",
    "É o ato de registrar uma informação em uma variável, em py usamos = (colocar a informação)\n"
   ]
  },
  {
   "cell_type": "code",
   "execution_count": 20,
   "id": "1eeb9f6f-2a48-4e88-9205-d34ef93fa7a4",
   "metadata": {},
   "outputs": [],
   "source": [
    "# variavel_Destino =informacao_origem # salvamos a informação na variavel"
   ]
  },
  {
   "cell_type": "code",
   "execution_count": null,
   "id": "0452fa44-97a0-4914-91ef-e8aa4edf6c27",
   "metadata": {},
   "outputs": [],
   "source": [
    "a = 2 #(atribui a variável a, a informação 2)"
   ]
  },
  {
   "cell_type": "code",
   "execution_count": null,
   "id": "72d58a8f-84a5-47c5-84aa-89ce95ab2326",
   "metadata": {},
   "outputs": [],
   "source": [
    "print(a)"
   ]
  },
  {
   "cell_type": "markdown",
   "id": "b199d5b4-9f65-44bc-b0d3-28566fd98b7c",
   "metadata": {},
   "source": [
    "# Tipos de dados\n",
    "Númer, texto, etc\n",
    "\n",
    "Verificar o tipo de dado em python é feito através de  type(). Ele recebe como argumento uma variáavel ou objeto qualquer (texto,numero,etc)"
   ]
  },
  {
   "cell_type": "markdown",
   "id": "a2f98e5a-7ff4-4c5c-8859-d653f9f267c7",
   "metadata": {},
   "source": [
    "## Números inteiros (int)\n",
    "São os que não tem  parte  decimal, incluindo os  negativos. Em py, para criar um número inteiro basta escrever o número  sem o ponto.\n"
   ]
  },
  {
   "cell_type": "code",
   "execution_count": null,
   "id": "1ca10fe9-42ab-47a0-8727-3a32639a4e86",
   "metadata": {},
   "outputs": [],
   "source": [
    "x = 2\n",
    "y = 5"
   ]
  },
  {
   "cell_type": "code",
   "execution_count": null,
   "id": "2d45420e-b764-4e5d-b4cb-8ca411b5ad96",
   "metadata": {},
   "outputs": [],
   "source": [
    "print(type(x))\n",
    "print(type(y))"
   ]
  },
  {
   "cell_type": "markdown",
   "id": "184c9486-05cc-4161-b728-827f6229d676",
   "metadata": {},
   "source": [
    "## Números com parte decimal, ponto flutuante(float)\n",
    "Números com parte decimal (1.2) são chamados de float em programação. Eles são definidos digitando um número com ponto(.)"
   ]
  },
  {
   "cell_type": "code",
   "execution_count": null,
   "id": "2a03c067-3b40-4904-a457-8bea6b28ef7a",
   "metadata": {},
   "outputs": [],
   "source": [
    "p = 1.2\n",
    "e = 3.14"
   ]
  },
  {
   "cell_type": "code",
   "execution_count": null,
   "id": "f1a76048-71a3-4ee7-aa53-4ec918535e8a",
   "metadata": {},
   "outputs": [],
   "source": [
    "print(type(p))\n",
    "print(type(e))"
   ]
  },
  {
   "cell_type": "markdown",
   "id": "866b942a-a708-4df0-9333-81d505311644",
   "metadata": {},
   "source": [
    "## Texto (string)\n",
    "\n",
    "Uma string é feninida pelo uso de \"\" bi inicio e fim do texto em questão, seja elas  simples ('') ou duplas (\"\").\n"
   ]
  },
  {
   "cell_type": "code",
   "execution_count": null,
   "id": "fb5410b8-c39e-4a0a-9cf3-c50a09096fd6",
   "metadata": {},
   "outputs": [],
   "source": [
    "nome = 'Ana Carolina'\n",
    "print (nome)"
   ]
  },
  {
   "cell_type": "code",
   "execution_count": 10,
   "id": "ffb6901e-20d7-4cd1-afa5-a3dc91fafd86",
   "metadata": {},
   "outputs": [
    {
     "name": "stdout",
     "output_type": "stream",
     "text": [
      "15\n",
      "<class 'str'>\n"
     ]
    }
   ],
   "source": [
    "classe = '15'  #string não pode ser usado para operações\n",
    "print(classe)\n",
    "print(type(classe))"
   ]
  },
  {
   "cell_type": "markdown",
   "id": "c90dd678-ad45-48d7-a9af-5dd9e99462a6",
   "metadata": {},
   "source": [
    "## Booleanos (bool)\n",
    "São variáveis que assumem dois possíveis valores: verdadeiro (true) e falso (false). Podemos definir uma variável booleana com essas palavras reservadas, incluindo as letras maiúsculas."
   ]
  },
  {
   "cell_type": "code",
   "execution_count": 22,
   "id": "352569f1-73bc-4f78-ad6a-9750db255e4c",
   "metadata": {},
   "outputs": [],
   "source": [
    "b1 = False\n",
    "b2 = True"
   ]
  },
  {
   "cell_type": "code",
   "execution_count": 23,
   "id": "28b0ec69-ae2c-47de-9c4a-a744aa028067",
   "metadata": {},
   "outputs": [
    {
     "name": "stdout",
     "output_type": "stream",
     "text": [
      "<class 'bool'>\n",
      "<class 'bool'>\n"
     ]
    }
   ],
   "source": [
    "print(type(b1))\n",
    "print(type(b2))"
   ]
  },
  {
   "cell_type": "markdown",
   "id": "81ae8963-5278-4fad-be5e-12c0c3290636",
   "metadata": {},
   "source": [
    "# Operações básicas\n",
    "\n",
    "* Adição\n",
    "* Subtração\n",
    "* Multiplicação\n",
    "* Divisão\n",
    "* Exponenciação\n",
    "* Divisão Inteira\n",
    "* Módulo (resto)"
   ]
  },
  {
   "cell_type": "markdown",
   "id": "a84565e6-04df-440d-9a72-1f9ced5c4abf",
   "metadata": {},
   "source": [
    "## Soma"
   ]
  },
  {
   "cell_type": "code",
   "execution_count": 26,
   "id": "9be9a5ed-64c3-4859-8905-37d4ad6e166c",
   "metadata": {},
   "outputs": [
    {
     "name": "stdout",
     "output_type": "stream",
     "text": [
      "7\n"
     ]
    }
   ],
   "source": [
    "a = 2 + 5\n",
    "print(a)"
   ]
  },
  {
   "cell_type": "markdown",
   "id": "594dc965-bfbc-4e1e-9784-7f1e80f4fbf0",
   "metadata": {},
   "source": [
    "## Subtração\n"
   ]
  },
  {
   "cell_type": "code",
   "execution_count": 27,
   "id": "c99ac847-0994-4205-9946-255eb3f60381",
   "metadata": {},
   "outputs": [
    {
     "name": "stdout",
     "output_type": "stream",
     "text": [
      "5\n"
     ]
    }
   ],
   "source": [
    "a = 7\n",
    "b = 2\n",
    "c = a - b\n",
    "print(c)"
   ]
  },
  {
   "cell_type": "markdown",
   "id": "e4197591-1375-42ca-9908-06ebe92aa942",
   "metadata": {},
   "source": [
    "## Multiplicação"
   ]
  },
  {
   "cell_type": "code",
   "execution_count": 28,
   "id": "cd77c6b1-8b29-4410-b088-956bfa553c34",
   "metadata": {},
   "outputs": [
    {
     "name": "stdout",
     "output_type": "stream",
     "text": [
      "16\n"
     ]
    }
   ],
   "source": [
    "f = 8\n",
    "g = 2\n",
    "h = f * g\n",
    "print(h)"
   ]
  },
  {
   "cell_type": "markdown",
   "id": "451df12a-15a0-4de2-a58a-0f5999f1faf1",
   "metadata": {},
   "source": [
    "## Divisão"
   ]
  },
  {
   "cell_type": "code",
   "execution_count": 33,
   "id": "850eeb5f-b9c8-48e6-8cb2-e4145e649e29",
   "metadata": {},
   "outputs": [
    {
     "name": "stdout",
     "output_type": "stream",
     "text": [
      "70\n",
      "35.0\n"
     ]
    }
   ],
   "source": [
    "idade_ana = 36\n",
    "idade_fernanda = 34\n",
    "soma_idades = idade_ana + idade_fernanda\n",
    "\n",
    "print(soma_idades)\n",
    "\n",
    "media = (soma_idades) / 2\n",
    "print(media)"
   ]
  },
  {
   "cell_type": "markdown",
   "id": "656414d9-0015-4df3-b511-0f3a5175b174",
   "metadata": {},
   "source": [
    "## Exponenciação"
   ]
  },
  {
   "cell_type": "code",
   "execution_count": 34,
   "id": "3a39c556-6265-449e-aed5-5ccecc64895c",
   "metadata": {},
   "outputs": [
    {
     "name": "stdout",
     "output_type": "stream",
     "text": [
      "25\n"
     ]
    }
   ],
   "source": [
    "var1 = 5** 2\n",
    "print(var1)"
   ]
  },
  {
   "cell_type": "markdown",
   "id": "e288156a-ee32-4c5d-895e-ea34a069a4c3",
   "metadata": {},
   "source": [
    "## Módulo"
   ]
  },
  {
   "cell_type": "code",
   "execution_count": 37,
   "id": "de018e8a-da20-4235-8167-7d276c8fd10a",
   "metadata": {},
   "outputs": [
    {
     "name": "stdout",
     "output_type": "stream",
     "text": [
      "3.5\n"
     ]
    }
   ],
   "source": [
    "c = a/b #divisão simples\n",
    "print(c)"
   ]
  },
  {
   "cell_type": "code",
   "execution_count": 35,
   "id": "b878ebf2-07ca-4790-85a1-08c32b33dc27",
   "metadata": {},
   "outputs": [
    {
     "name": "stdout",
     "output_type": "stream",
     "text": [
      "3\n"
     ]
    }
   ],
   "source": [
    "c = a//b  # divisão inteira - só pega a parte inteira\n",
    "print(c)"
   ]
  },
  {
   "cell_type": "code",
   "execution_count": 36,
   "id": "fce356b8-6386-40bc-963d-d2f1e2c2002d",
   "metadata": {},
   "outputs": [
    {
     "name": "stdout",
     "output_type": "stream",
     "text": [
      "1\n"
     ]
    }
   ],
   "source": [
    "c = a%b # só pega o resto\n",
    "print(c)"
   ]
  },
  {
   "cell_type": "markdown",
   "id": "2a5418d7-8279-4824-a2df-f14be4ba0055",
   "metadata": {},
   "source": [
    "## Funções matemáticas (biblioteca math)\n",
    "* Rauz quadrado (math.sqrt)\n",
    "* Fatorial (math.factorial)\n",
    "  \n",
    "https://docs.python.org/pt-br/3.13/library/math.html\n"
   ]
  },
  {
   "cell_type": "code",
   "execution_count": 39,
   "id": "38e21021-fba5-4a0f-8bb8-3729dd136bb0",
   "metadata": {},
   "outputs": [],
   "source": [
    "import math  # importar a  bibliotecqa"
   ]
  },
  {
   "cell_type": "code",
   "execution_count": 40,
   "id": "44f5fd51-b397-44c2-ab9e-121993552948",
   "metadata": {},
   "outputs": [
    {
     "data": {
      "text/plain": [
       "4.123105625617661"
      ]
     },
     "execution_count": 40,
     "metadata": {},
     "output_type": "execute_result"
    }
   ],
   "source": [
    "math.sqrt (17)"
   ]
  },
  {
   "cell_type": "code",
   "execution_count": 42,
   "id": "c2a1c37b-e462-46a4-898e-aadc924ee25e",
   "metadata": {},
   "outputs": [
    {
     "data": {
      "text/plain": [
       "5040"
      ]
     },
     "execution_count": 42,
     "metadata": {},
     "output_type": "execute_result"
    }
   ],
   "source": [
    "math.factorial(7)"
   ]
  },
  {
   "cell_type": "markdown",
   "id": "0eca4f87-818a-48ad-a836-70e578687733",
   "metadata": {},
   "source": [
    "## Ordem de precedência\n",
    "\n",
    "Segue a ordem de precedência matemática comum\n",
    "* 1 - ** exponenciação\n",
    "* 2- *, /, //, % Multiplicação, divisão, divisão inteira e módulo\n",
    "* 3 - +, - Adição e subtração\n",
    "\n",
    "Usar parenteses () se quiser organizar em outra ordem"
   ]
  },
  {
   "cell_type": "markdown",
   "id": "2e8a63dd-97ba-456b-a313-30533c0ea053",
   "metadata": {},
   "source": [
    "### Valor presente\n",
    "Suponha que você deseja saber quanto precisa investir hoje para alcançar um montante específico no futuro (R$1000), dado uma taxa de juros anual (5%) composta em um periodo de 10 anos.\n",
    "\n",
    "PV = FV/(1+r)**n\n",
    "\n",
    "Onde:\n",
    "* PV é o valor presente.\n",
    "* FV é o valor futuro\n",
    "* r é a taxa de juros em decimal\n",
    "* n é o número de anos\n",
    "\n"
   ]
  },
  {
   "cell_type": "code",
   "execution_count": 92,
   "id": "28275f9c-5c8f-4280-b515-a4fc28f9a16c",
   "metadata": {},
   "outputs": [
    {
     "name": "stdout",
     "output_type": "stream",
     "text": [
      "613.9132535407591\n"
     ]
    }
   ],
   "source": [
    "valor_futuro = 1000\n",
    "r = 0.05\n",
    "n = 10\n",
    "\n",
    "valor_presente = valor_futuro/((1+r)**n)\n",
    "\n",
    "print(valor_presente)\n",
    "    \n"
   ]
  },
  {
   "cell_type": "markdown",
   "id": "14066d04-bbe9-448c-ace6-4cf59750c2db",
   "metadata": {},
   "source": [
    "# String - Cadeia de  caracteres\n",
    "\n",
    "* lower ()\n",
    "* upper()\n",
    "* strip ()\n",
    "* replace()\n",
    "* startswith()\n",
    "* endswith()\n",
    "* find()\n",
    "* len()\n",
    "* title()\n",
    "* split()\n",
    "* join()"
   ]
  },
  {
   "cell_type": "code",
   "execution_count": 63,
   "id": "11f9f50b-4c81-4d9d-8387-b92028a81e19",
   "metadata": {},
   "outputs": [
    {
     "data": {
      "text/plain": [
       "'Machado de Assis'"
      ]
     },
     "execution_count": 63,
     "metadata": {},
     "output_type": "execute_result"
    }
   ],
   "source": [
    "nome_exemplo = 'Machado de Assis'\n",
    "nome_exemplo"
   ]
  },
  {
   "cell_type": "markdown",
   "id": "a3a1347a-02e9-4be7-862a-a94c4398c71c",
   "metadata": {},
   "source": [
    "## Método lower = deixa tudo no minúsculo"
   ]
  },
  {
   "cell_type": "code",
   "execution_count": 47,
   "id": "43e99578-d3b3-49cd-ad00-6f63cff975ea",
   "metadata": {},
   "outputs": [
    {
     "data": {
      "text/plain": [
       "' machado de assis'"
      ]
     },
     "execution_count": 47,
     "metadata": {},
     "output_type": "execute_result"
    }
   ],
   "source": [
    "nome_exemplo.lower ()"
   ]
  },
  {
   "cell_type": "markdown",
   "id": "1b9fde70-1f4b-44a1-a6b1-f968d1260565",
   "metadata": {},
   "source": [
    "## Método upper = deixa tudo no maiúsculo\n"
   ]
  },
  {
   "cell_type": "code",
   "execution_count": 48,
   "id": "a4224167-8cbc-47e2-b6ee-7313d1ba7e2d",
   "metadata": {},
   "outputs": [
    {
     "data": {
      "text/plain": [
       "' MACHADO DE ASSIS'"
      ]
     },
     "execution_count": 48,
     "metadata": {},
     "output_type": "execute_result"
    }
   ],
   "source": [
    "nome_exemplo.upper ()"
   ]
  },
  {
   "cell_type": "markdown",
   "id": "7d791d47-0a1c-436a-8e8f-693724546732",
   "metadata": {},
   "source": [
    "## Método strip = Limpa espaços no início e fim da string"
   ]
  },
  {
   "cell_type": "code",
   "execution_count": 50,
   "id": "225b069e-8a53-4160-a664-b9ee4b43f81e",
   "metadata": {},
   "outputs": [],
   "source": [
    "exemplo_strip = \"   Carol     \""
   ]
  },
  {
   "cell_type": "code",
   "execution_count": 52,
   "id": "ad820df0-9f2c-4741-8722-184eed16b2c4",
   "metadata": {},
   "outputs": [
    {
     "name": "stdout",
     "output_type": "stream",
     "text": [
      "   Carol     \n"
     ]
    }
   ],
   "source": [
    "print(exemplo_strip)"
   ]
  },
  {
   "cell_type": "code",
   "execution_count": 53,
   "id": "780f4d93-9369-4a24-b95a-db9d19abd4e4",
   "metadata": {},
   "outputs": [
    {
     "data": {
      "text/plain": [
       "'Carol'"
      ]
     },
     "execution_count": 53,
     "metadata": {},
     "output_type": "execute_result"
    }
   ],
   "source": [
    "exemplo_strip.strip()"
   ]
  },
  {
   "cell_type": "markdown",
   "id": "5288caee-a764-43d5-b177-8b5544c31128",
   "metadata": {},
   "source": [
    "## Método replace = substituir uma string"
   ]
  },
  {
   "cell_type": "code",
   "execution_count": 55,
   "id": "3e3cc658-a0a1-49db-b038-18e9cbb91b2a",
   "metadata": {},
   "outputs": [
    {
     "data": {
      "text/plain": [
       "' Martelo de Assis'"
      ]
     },
     "execution_count": 55,
     "metadata": {},
     "output_type": "execute_result"
    }
   ],
   "source": [
    "nome_exemplo.replace('Machado','Martelo')\n"
   ]
  },
  {
   "cell_type": "markdown",
   "id": "af2f2573-b922-4d66-bc95-6e26b1122085",
   "metadata": {},
   "source": [
    "## Método startswith = Verifica se a string começa com a subtring desejada"
   ]
  },
  {
   "cell_type": "code",
   "execution_count": 65,
   "id": "1f75e5c8-21b8-4c42-a210-853db04c5ed0",
   "metadata": {},
   "outputs": [
    {
     "data": {
      "text/plain": [
       "True"
      ]
     },
     "execution_count": 65,
     "metadata": {},
     "output_type": "execute_result"
    }
   ],
   "source": [
    "nome_exemplo.startswith('M')"
   ]
  },
  {
   "cell_type": "code",
   "execution_count": 61,
   "id": "89b8ee2f-0d04-485e-92fa-e57669d0b13d",
   "metadata": {},
   "outputs": [
    {
     "name": "stdout",
     "output_type": "stream",
     "text": [
      " Machado de Assis\n"
     ]
    }
   ],
   "source": [
    "print(nome_exemplo)"
   ]
  },
  {
   "cell_type": "code",
   "execution_count": 64,
   "id": "9850ce57-656e-45f6-87ea-df4577976e0a",
   "metadata": {},
   "outputs": [
    {
     "data": {
      "text/plain": [
       "False"
      ]
     },
     "execution_count": 64,
     "metadata": {},
     "output_type": "execute_result"
    }
   ],
   "source": [
    "nome_exemplo.startswith('R')"
   ]
  },
  {
   "cell_type": "markdown",
   "id": "95f4726f-13e5-41cc-8ee1-0aeda1d05c97",
   "metadata": {},
   "source": [
    "## Método endswith = Verifica se a string termina com a subtring desejada"
   ]
  },
  {
   "cell_type": "code",
   "execution_count": 68,
   "id": "d1e62139-ddda-46d7-a0bb-69d7c70bc670",
   "metadata": {},
   "outputs": [
    {
     "data": {
      "text/plain": [
       "False"
      ]
     },
     "execution_count": 68,
     "metadata": {},
     "output_type": "execute_result"
    }
   ],
   "source": [
    "nome_exemplo.endswith('A')"
   ]
  },
  {
   "cell_type": "code",
   "execution_count": 71,
   "id": "bc808e54-8c88-4832-be9e-5a2db60adc79",
   "metadata": {},
   "outputs": [
    {
     "data": {
      "text/plain": [
       "True"
      ]
     },
     "execution_count": 71,
     "metadata": {},
     "output_type": "execute_result"
    }
   ],
   "source": [
    "nome_exemplo.endswith('s')"
   ]
  },
  {
   "cell_type": "markdown",
   "id": "2f4f71de-84ad-4b54-b33e-6dec1e8f33b7",
   "metadata": {},
   "source": [
    "## Método find = Encontrar a posição da substring"
   ]
  },
  {
   "cell_type": "code",
   "execution_count": 72,
   "id": "f02165ca-0e87-4aa4-9458-770839a599ea",
   "metadata": {},
   "outputs": [
    {
     "data": {
      "text/plain": [
       "8"
      ]
     },
     "execution_count": 72,
     "metadata": {},
     "output_type": "execute_result"
    }
   ],
   "source": [
    "nome_exemplo.find('de')"
   ]
  },
  {
   "cell_type": "markdown",
   "id": "6754ec89-8ba9-43ae-8de7-acc4eeeeb8f1",
   "metadata": {},
   "source": [
    "## Função len = Encontrar o tamanho da string"
   ]
  },
  {
   "cell_type": "code",
   "execution_count": 75,
   "id": "27881aa8-851c-4a6f-8a22-2d20e77dca7c",
   "metadata": {},
   "outputs": [
    {
     "data": {
      "text/plain": [
       "16"
      ]
     },
     "execution_count": 75,
     "metadata": {},
     "output_type": "execute_result"
    }
   ],
   "source": [
    "len(nome_exemplo)"
   ]
  },
  {
   "cell_type": "markdown",
   "id": "9b4a718a-78fc-452c-b1b7-9610974e5568",
   "metadata": {},
   "source": [
    "## Método title = Coloca cada palavra com a primeira letra maiuscula"
   ]
  },
  {
   "cell_type": "code",
   "execution_count": 76,
   "id": "6d7e7af1-2876-4ee4-a2ba-496e80858193",
   "metadata": {},
   "outputs": [
    {
     "data": {
      "text/plain": [
       "'Machado De Assis'"
      ]
     },
     "execution_count": 76,
     "metadata": {},
     "output_type": "execute_result"
    }
   ],
   "source": [
    "nome_exemplo.title()"
   ]
  },
  {
   "cell_type": "markdown",
   "id": "1ea91be5-d68b-4313-8db2-4be065cf905a",
   "metadata": {},
   "source": [
    "## Método split = separa uma string por uma substring"
   ]
  },
  {
   "cell_type": "code",
   "execution_count": 77,
   "id": "28928b82-fd1b-4e71-8bef-9d8b936cb260",
   "metadata": {},
   "outputs": [],
   "source": [
    "nome_split = nome_exemplo.split(' ')"
   ]
  },
  {
   "cell_type": "code",
   "execution_count": 78,
   "id": "80651c61-4cb0-4423-97b4-829d0a6f425c",
   "metadata": {},
   "outputs": [
    {
     "name": "stdout",
     "output_type": "stream",
     "text": [
      "['Machado', 'de', 'Assis']\n"
     ]
    }
   ],
   "source": [
    "print(nome_split)"
   ]
  },
  {
   "cell_type": "code",
   "execution_count": 79,
   "id": "8436d974-8cad-411c-b1fe-86543f4285c7",
   "metadata": {},
   "outputs": [
    {
     "data": {
      "text/plain": [
       "list"
      ]
     },
     "execution_count": 79,
     "metadata": {},
     "output_type": "execute_result"
    }
   ],
   "source": [
    "type(nome_split)"
   ]
  },
  {
   "cell_type": "code",
   "execution_count": 81,
   "id": "692e0c9c-2796-4757-87cb-a16b1e9cba62",
   "metadata": {},
   "outputs": [
    {
     "data": {
      "text/plain": [
       "'de'"
      ]
     },
     "execution_count": 81,
     "metadata": {},
     "output_type": "execute_result"
    }
   ],
   "source": [
    "nome_split[1]"
   ]
  },
  {
   "cell_type": "markdown",
   "id": "33c36822-8e2b-4538-8b9f-a5994b4fdca6",
   "metadata": {},
   "source": [
    "## Método join = Junta os elementos de lista com o parametro passado"
   ]
  },
  {
   "cell_type": "code",
   "execution_count": 82,
   "id": "56095684-a35c-44b2-ac04-0fd5ac8b70b1",
   "metadata": {},
   "outputs": [
    {
     "data": {
      "text/plain": [
       "'Machado-de-Assis'"
      ]
     },
     "execution_count": 82,
     "metadata": {},
     "output_type": "execute_result"
    }
   ],
   "source": [
    "'-'.join(nome_split)\n"
   ]
  },
  {
   "cell_type": "code",
   "execution_count": 83,
   "id": "f7308a2d-907a-4892-999c-38b7f3e5e25f",
   "metadata": {},
   "outputs": [
    {
     "data": {
      "text/plain": [
       "'MachadoTTdeTTAssis'"
      ]
     },
     "execution_count": 83,
     "metadata": {},
     "output_type": "execute_result"
    }
   ],
   "source": [
    "'TT'.join(nome_split)"
   ]
  },
  {
   "cell_type": "markdown",
   "id": "a948cfe6-0764-4839-964b-5a8f23198a20",
   "metadata": {},
   "source": [
    "## Indexação de string"
   ]
  },
  {
   "cell_type": "code",
   "execution_count": 84,
   "id": "e08496fe-6b78-4ad7-bd27-fa5dfd146ee6",
   "metadata": {},
   "outputs": [
    {
     "data": {
      "text/plain": [
       "'Machado de Assis'"
      ]
     },
     "execution_count": 84,
     "metadata": {},
     "output_type": "execute_result"
    }
   ],
   "source": [
    "nome_exemplo"
   ]
  },
  {
   "cell_type": "code",
   "execution_count": 86,
   "id": "0be4e4dd-b653-454f-90fe-60dc051af576",
   "metadata": {},
   "outputs": [
    {
     "data": {
      "text/plain": [
       "'M'"
      ]
     },
     "execution_count": 86,
     "metadata": {},
     "output_type": "execute_result"
    }
   ],
   "source": [
    "nome_exemplo[0] # pega a letra que esta na 1 posição"
   ]
  },
  {
   "cell_type": "code",
   "execution_count": 87,
   "id": "4b54a2a4-6b43-4b02-bd2d-5bf4063553f5",
   "metadata": {},
   "outputs": [
    {
     "data": {
      "text/plain": [
       "'d'"
      ]
     },
     "execution_count": 87,
     "metadata": {},
     "output_type": "execute_result"
    }
   ],
   "source": [
    "nome_exemplo[5] "
   ]
  },
  {
   "cell_type": "code",
   "execution_count": 88,
   "id": "2caadf45-dbcb-4431-89ea-82ca04a07606",
   "metadata": {},
   "outputs": [
    {
     "data": {
      "text/plain": [
       "'hado'"
      ]
     },
     "execution_count": 88,
     "metadata": {},
     "output_type": "execute_result"
    }
   ],
   "source": [
    "nome_exemplo[3:7] # pega a letra que esta na 6 posição"
   ]
  },
  {
   "cell_type": "code",
   "execution_count": 89,
   "id": "f5ec805d-a1d3-455d-aad3-7032892ea5af",
   "metadata": {},
   "outputs": [
    {
     "data": {
      "text/plain": [
       "'s'"
      ]
     },
     "execution_count": 89,
     "metadata": {},
     "output_type": "execute_result"
    }
   ],
   "source": [
    "nome_exemplo[-1 #pega de trás para frente"
   ]
  },
  {
   "cell_type": "markdown",
   "id": "f251b002-12a2-478b-ac47-a067ab6351c8",
   "metadata": {},
   "source": [
    "# Formatação de string"
   ]
  },
  {
   "cell_type": "code",
   "execution_count": 94,
   "id": "68157c3d-96aa-41c5-b75e-7fca22bd73bc",
   "metadata": {},
   "outputs": [
    {
     "data": {
      "text/plain": [
       "' O valor presente é 613.9132535407591'"
      ]
     },
     "execution_count": 94,
     "metadata": {},
     "output_type": "execute_result"
    }
   ],
   "source": [
    "\" O valor presente é {}\".format(valor_presente)"
   ]
  },
  {
   "cell_type": "code",
   "execution_count": 96,
   "id": "c45ceeaf-b5af-4b6f-8358-251df2b08778",
   "metadata": {},
   "outputs": [
    {
     "data": {
      "text/plain": [
       "'O valor presente é 613.9132535407591'"
      ]
     },
     "execution_count": 96,
     "metadata": {},
     "output_type": "execute_result"
    }
   ],
   "source": [
    "f'O valor presente é {valor_presente}'\n"
   ]
  },
  {
   "cell_type": "code",
   "execution_count": 97,
   "id": "de51d1d2-501b-46ca-8e4d-125e37585f9e",
   "metadata": {},
   "outputs": [
    {
     "data": {
      "text/plain": [
       "'O valor presente é 613.91'"
      ]
     },
     "execution_count": 97,
     "metadata": {},
     "output_type": "execute_result"
    }
   ],
   "source": [
    "f'O valor presente é {valor_presente:.2f}'"
   ]
  },
  {
   "cell_type": "markdown",
   "id": "466233f7-c83d-436a-921c-4edcffab291f",
   "metadata": {},
   "source": [
    "### Exemplo"
   ]
  },
  {
   "cell_type": "markdown",
   "id": "80d0c372-6ace-4377-85ca-49473ccb9ae0",
   "metadata": {},
   "source": [
    "Padronizar o nome completo, e extrair o comprimento."
   ]
  },
  {
   "cell_type": "code",
   "execution_count": 100,
   "id": "6a52e0a4-b8eb-4be4-883b-4db3ba0e1734",
   "metadata": {},
   "outputs": [
    {
     "name": "stdout",
     "output_type": "stream",
     "text": [
      "Ana Carolina Jacoby\n"
     ]
    }
   ],
   "source": [
    "nome_completo ='  Ana carolina jacoby  '\n",
    "nome_completo = nome_completo.strip() #retirar os espaços\n",
    "nome_completo = nome_completo.title() # colocar maiuscula em cada nome\n",
    "print(nome_completo)"
   ]
  },
  {
   "cell_type": "code",
   "execution_count": 101,
   "id": "8f200679-7d1a-4140-976f-0ee37202ccfe",
   "metadata": {},
   "outputs": [
    {
     "name": "stdout",
     "output_type": "stream",
     "text": [
      "['Ana', 'Carolina', 'Jacoby']\n"
     ]
    }
   ],
   "source": [
    "nomes = nome_completo.split(' ')\n",
    "print(nomes)"
   ]
  },
  {
   "cell_type": "code",
   "execution_count": 102,
   "id": "5283f39f-2d74-423b-9c49-02aa68dba019",
   "metadata": {},
   "outputs": [
    {
     "name": "stdout",
     "output_type": "stream",
     "text": [
      "Ana\n"
     ]
    }
   ],
   "source": [
    "print(nomes[0])"
   ]
  },
  {
   "cell_type": "code",
   "execution_count": 103,
   "id": "c170b97e-0666-4060-b0ab-3d635776ec82",
   "metadata": {},
   "outputs": [
    {
     "data": {
      "text/plain": [
       "19"
      ]
     },
     "execution_count": 103,
     "metadata": {},
     "output_type": "execute_result"
    }
   ],
   "source": [
    "len(nome_completo)"
   ]
  },
  {
   "cell_type": "markdown",
   "id": "e56c6140-0ea9-43a8-b816-4c1804adceca",
   "metadata": {},
   "source": [
    "# Booleanos - Operações lógicas\n",
    "* é igual a\n",
    "* é maior que\n",
    "* é menor que\n",
    "* é diferente de\n",
    "* é maior ou igual a\n",
    "* é menor ou igual a"
   ]
  },
  {
   "cell_type": "code",
   "execution_count": 104,
   "id": "600954e6-0a7f-4b68-bc64-666f13723075",
   "metadata": {},
   "outputs": [],
   "source": [
    "idade = 30"
   ]
  },
  {
   "cell_type": "code",
   "execution_count": 105,
   "id": "647ffed8-a917-4636-8e20-30c02704d07f",
   "metadata": {},
   "outputs": [
    {
     "data": {
      "text/plain": [
       "True"
      ]
     },
     "execution_count": 105,
     "metadata": {},
     "output_type": "execute_result"
    }
   ],
   "source": [
    "idade > 18 # a>b verifica se a é maior que b\n"
   ]
  },
  {
   "cell_type": "code",
   "execution_count": 106,
   "id": "389738cc-69ba-47cf-a513-ed5984117eb0",
   "metadata": {},
   "outputs": [
    {
     "data": {
      "text/plain": [
       "True"
      ]
     },
     "execution_count": 106,
     "metadata": {},
     "output_type": "execute_result"
    }
   ],
   "source": [
    "idade < 60 # a<b verifica de a é menor que b"
   ]
  },
  {
   "cell_type": "code",
   "execution_count": 107,
   "id": "78471e1e-e1db-4e71-95d3-5cb293a330b7",
   "metadata": {},
   "outputs": [
    {
     "data": {
      "text/plain": [
       "False"
      ]
     },
     "execution_count": 107,
     "metadata": {},
     "output_type": "execute_result"
    }
   ],
   "source": [
    "idade == 40 # a==b  verifica se é igual"
   ]
  },
  {
   "cell_type": "code",
   "execution_count": 108,
   "id": "b2c1d509-4f95-4b44-8811-04e6429153a5",
   "metadata": {},
   "outputs": [
    {
     "data": {
      "text/plain": [
       "True"
      ]
     },
     "execution_count": 108,
     "metadata": {},
     "output_type": "execute_result"
    }
   ],
   "source": [
    "idade!= 40 # a!=b Verifica se a é diferente de b"
   ]
  },
  {
   "cell_type": "code",
   "execution_count": 109,
   "id": "e3a43c58-4508-4cf1-975e-d89e7917e0db",
   "metadata": {},
   "outputs": [
    {
     "data": {
      "text/plain": [
       "True"
      ]
     },
     "execution_count": 109,
     "metadata": {},
     "output_type": "execute_result"
    }
   ],
   "source": [
    "idade>= 18 #verifica se é maior ou igual "
   ]
  },
  {
   "cell_type": "code",
   "execution_count": 110,
   "id": "61be36bf-f568-425a-b4d7-bca5b12d0007",
   "metadata": {},
   "outputs": [
    {
     "data": {
      "text/plain": [
       "True"
      ]
     },
     "execution_count": 110,
     "metadata": {},
     "output_type": "execute_result"
    }
   ],
   "source": [
    "idade <= 60 #verifica se é menor ou igual"
   ]
  },
  {
   "cell_type": "code",
   "execution_count": null,
   "id": "095268e0-e256-4e03-8814-d2f38e70570b",
   "metadata": {},
   "outputs": [],
   "source": []
  }
 ],
 "metadata": {
  "kernelspec": {
   "display_name": "Python 3 (ipykernel)",
   "language": "python",
   "name": "python3"
  },
  "language_info": {
   "codemirror_mode": {
    "name": "ipython",
    "version": 3
   },
   "file_extension": ".py",
   "mimetype": "text/x-python",
   "name": "python",
   "nbconvert_exporter": "python",
   "pygments_lexer": "ipython3",
   "version": "3.13.5"
  }
 },
 "nbformat": 4,
 "nbformat_minor": 5
}
