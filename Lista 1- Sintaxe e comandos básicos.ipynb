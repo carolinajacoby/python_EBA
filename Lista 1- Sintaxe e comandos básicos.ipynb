{
 "cells": [
  {
   "cell_type": "markdown",
   "id": "63211f3c-ef32-49cc-9c2b-37793a571227",
   "metadata": {},
   "source": [
    "# Listas de exercícios do módulo Python 1"
   ]
  },
  {
   "cell_type": "markdown",
   "id": "956e04c8-0228-4b2a-8903-69c559488127",
   "metadata": {},
   "source": [
    "## Lista 1- Sintaxe e comandos básicos"
   ]
  },
  {
   "cell_type": "markdown",
   "id": "13a09b85-f189-4b45-9b25-a8ffe24ced35",
   "metadata": {},
   "source": [
    "1- Escreva um programa que exiba a mensagem \"Hello World!\" na tela."
   ]
  },
  {
   "cell_type": "code",
   "execution_count": 1,
   "id": "b50ec22f-9a81-4213-839d-2b553c56f898",
   "metadata": {},
   "outputs": [
    {
     "name": "stdout",
     "output_type": "stream",
     "text": [
      "Hello  World\n"
     ]
    }
   ],
   "source": [
    "print('Hello  World')"
   ]
  },
  {
   "cell_type": "markdown",
   "id": "ccdf20f7-8e12-467d-8644-eb783bc02db8",
   "metadata": {},
   "source": [
    "2- Peça ao usuário para digitar seu nome e exiba a mensagem \"Olá,\n",
    "[nome]!\"."
   ]
  },
  {
   "cell_type": "code",
   "execution_count": 3,
   "id": "9c75f9b6-84a0-45db-a13a-7b32c53fa3ab",
   "metadata": {},
   "outputs": [
    {
     "name": "stdin",
     "output_type": "stream",
     "text": [
      "Olá,  qual  seu nome? Carolina\n"
     ]
    },
    {
     "name": "stdout",
     "output_type": "stream",
     "text": [
      "Ola Carolina Seja bem vindo(a)!\n"
     ]
    }
   ],
   "source": [
    "nome =  input('Olá,  qual  seu nome?')\n",
    "print('Ola', nome, 'Seja bem vindo(a)!')"
   ]
  },
  {
   "cell_type": "markdown",
   "id": "1e44610a-8fd8-4b29-932e-65e5ff9bfccc",
   "metadata": {},
   "source": [
    "3- Peça ao usuário para digitar um número e exiba o número digitado."
   ]
  },
  {
   "cell_type": "code",
   "execution_count": 4,
   "id": "3cb88a42-fdf6-4061-84df-7e2e66c38a3b",
   "metadata": {},
   "outputs": [
    {
     "name": "stdin",
     "output_type": "stream",
     "text": [
      "Digite um número 56\n"
     ]
    },
    {
     "name": "stdout",
     "output_type": "stream",
     "text": [
      " O número é:  56 .\n"
     ]
    }
   ],
   "source": [
    "numero = input('Digite um número')\n",
    "print(' O número é: ', numero, '.')"
   ]
  },
  {
   "cell_type": "markdown",
   "id": "d5f25e03-fe89-432f-b962-c5d73c4e1846",
   "metadata": {},
   "source": [
    "4- Peça ao usuário para digitar seu nome e sobrenome, e exiba o nome\n",
    "completo."
   ]
  },
  {
   "cell_type": "markdown",
   "id": "46417590-435a-4c03-ab57-3db66cf96931",
   "metadata": {},
   "source": [
    "5 -Peça ao usuário para digitar sua idade e exiba \"Você tem [idade]\n",
    "anos.\"."
   ]
  },
  {
   "cell_type": "code",
   "execution_count": 30,
   "id": "64888d36-8c1a-4426-9bbb-6dcf437ae0dc",
   "metadata": {},
   "outputs": [
    {
     "name": "stdin",
     "output_type": "stream",
     "text": [
      "Qual sua idade?  58\n"
     ]
    },
    {
     "name": "stdout",
     "output_type": "stream",
     "text": [
      " Sua idade é 58 !\n"
     ]
    }
   ],
   "source": [
    "idade = input ('Qual sua idade? ')\n",
    "print( f' Sua idade é {idade} !')"
   ]
  },
  {
   "cell_type": "code",
   "execution_count": 9,
   "id": "3421d253-d396-4c2e-8fe7-48f888b5a0c6",
   "metadata": {},
   "outputs": [
    {
     "name": "stdin",
     "output_type": "stream",
     "text": [
      "Ola! Qual seu nome? Carolina Jacoby\n",
      "E a sua idade? 36\n"
     ]
    },
    {
     "name": "stdout",
     "output_type": "stream",
     "text": [
      "Ola Carolina Jacoby você tem 36 anos\n"
     ]
    }
   ],
   "source": [
    "nome = input ('Ola! Qual seu nome?')\n",
    "idade = input ('E a sua idade?')\n",
    "print('Ola', nome, 'você tem', idade, 'anos')"
   ]
  },
  {
   "cell_type": "markdown",
   "id": "aece3c0d-5e14-4795-987b-bc491f1e251a",
   "metadata": {},
   "source": [
    "6 - Peça ao usuário para digitar uma palavra e exiba a palavra três vezes."
   ]
  },
  {
   "cell_type": "code",
   "execution_count": 13,
   "id": "b427278a-05b1-4667-8e63-d0cde07affd7",
   "metadata": {},
   "outputs": [
    {
     "name": "stdin",
     "output_type": "stream",
     "text": [
      "Escreva uma palavra Feia\n"
     ]
    },
    {
     "name": "stdout",
     "output_type": "stream",
     "text": [
      "Feia Feia Feia\n"
     ]
    }
   ],
   "source": [
    "palavra = input ('Escreva uma palavra')\n",
    "print(palavra,  palavra,  palavra)"
   ]
  },
  {
   "cell_type": "code",
   "execution_count": 11,
   "id": "68564577-6077-4c30-90c3-bc9dd3befac7",
   "metadata": {},
   "outputs": [
    {
     "name": "stdin",
     "output_type": "stream",
     "text": [
      "Escreva uma palavra Cachorro\n"
     ]
    },
    {
     "name": "stdout",
     "output_type": "stream",
     "text": [
      "Cachorro\n",
      "Cachorro\n",
      "Cachorro\n"
     ]
    }
   ],
   "source": [
    "palavra = input ('Escreva uma palavra')\n",
    "print(palavra)\n",
    "print(palavra)\n",
    "print(palavra)"
   ]
  },
  {
   "cell_type": "markdown",
   "id": "e2e7ca79-bf81-4495-9e2a-18694c5621a4",
   "metadata": {},
   "source": [
    "7 - Peça ao usuário para digitar uma palavra e exiba a palavra três vezes,\n",
    "porém altere o separador padrão por hífen."
   ]
  },
  {
   "cell_type": "code",
   "execution_count": 12,
   "id": "5a7440c3-f248-45cf-a30a-81f489a5d7b5",
   "metadata": {},
   "outputs": [
    {
     "name": "stdin",
     "output_type": "stream",
     "text": [
      " Digite  uma palavra qualquer Fernanda\n"
     ]
    },
    {
     "name": "stdout",
     "output_type": "stream",
     "text": [
      " A  palavra digitada é Fernanda - Fernanda - Fernanda\n"
     ]
    }
   ],
   "source": [
    "palavra = input(' Digite  uma palavra qualquer')\n",
    "print(' A  palavra digitada é' ,  palavra, '-',palavra,'-', palavra)"
   ]
  },
  {
   "cell_type": "code",
   "execution_count": 21,
   "id": "3e5176fd-c1bd-4d53-bdf5-248aefa77d0a",
   "metadata": {},
   "outputs": [
    {
     "name": "stdin",
     "output_type": "stream",
     "text": [
      "Digite uma palavra Chimarrão\n"
     ]
    },
    {
     "name": "stdout",
     "output_type": "stream",
     "text": [
      "Chimarrão-Chimarrão-Chimarrão\n"
     ]
    }
   ],
   "source": [
    "palavra = input(\"Digite uma palavra\")\n",
    "print(palavra, palavra, palavra, sep = \"-\")"
   ]
  },
  {
   "cell_type": "markdown",
   "id": "cfb1bb0d-899f-4975-abe2-48eb57f4b60c",
   "metadata": {},
   "source": [
    "8- Peça ao usuário para digitar seu nome e exiba o nome em três linhas\n",
    "separadas."
   ]
  },
  {
   "cell_type": "code",
   "execution_count": 22,
   "id": "b1c3504f-9b00-4a03-9f39-56c67247720e",
   "metadata": {},
   "outputs": [
    {
     "name": "stdin",
     "output_type": "stream",
     "text": [
      "Digite seu nome : Carol\n"
     ]
    },
    {
     "name": "stdout",
     "output_type": "stream",
     "text": [
      "Carol\n",
      "Carol\n",
      "Carol\n"
     ]
    }
   ],
   "source": [
    "nome= input ('Digite seu nome :')\n",
    "print(nome)\n",
    "print(nome)\n",
    "print(nome)"
   ]
  },
  {
   "cell_type": "markdown",
   "id": "06bcf4e0-0a1e-48f4-88a8-40af2dea46e6",
   "metadata": {},
   "source": [
    "9 -Peça ao usuário para digitar um animal e exiba \"Eu gosto de\n",
    "[animal]!\"."
   ]
  },
  {
   "cell_type": "code",
   "execution_count": 24,
   "id": "117940e5-80b7-43fe-b195-1c09ed34e253",
   "metadata": {},
   "outputs": [
    {
     "name": "stdin",
     "output_type": "stream",
     "text": [
      " Digite o  nome  de um animal Cachorro\n"
     ]
    },
    {
     "name": "stdout",
     "output_type": "stream",
     "text": [
      "Eu gosto de: Cachorro\n"
     ]
    }
   ],
   "source": [
    "animal =  input (' Digite o  nome  de um animal')\n",
    "print(f'Eu gosto de: {animal}')"
   ]
  },
  {
   "cell_type": "markdown",
   "id": "8ce7b3cf-d3fb-42f0-ac13-bfc5cdd28eea",
   "metadata": {},
   "source": [
    "10 - Peça ao usuário para digitar três itens de compra e exiba a lista\n",
    "completa."
   ]
  },
  {
   "cell_type": "code",
   "execution_count": 26,
   "id": "8b2c09cd-6c88-4438-a350-8028e852d582",
   "metadata": {},
   "outputs": [
    {
     "name": "stdin",
     "output_type": "stream",
     "text": [
      " Digite um item de sua compra: Banana\n",
      " Digite um item de sua compra: Maça\n",
      " Digite um item de sua compra: Cenoura\n"
     ]
    },
    {
     "name": "stdout",
     "output_type": "stream",
     "text": [
      "['Banana', 'Maça', 'Cenoura']\n"
     ]
    }
   ],
   "source": [
    "lista_compras = []\n",
    "itens = input(' Digite um item de sua compra:')\n",
    "lista_compras.append(itens)\n",
    "\n",
    "itens = input(' Digite um item de sua compra:')\n",
    "lista_compras.append(itens)\n",
    "\n",
    "itens = input(' Digite um item de sua compra:')\n",
    "lista_compras.append(itens)\n",
    "\n",
    "print(lista_compras)"
   ]
  },
  {
   "cell_type": "markdown",
   "id": "9411160a-6049-493c-8632-9159cd31e2f3",
   "metadata": {},
   "source": [
    "11 - Peça ao usuário para digitar seu nome e exiba \"Parabéns, [nome]!\n",
    "Você concluiu todos os exercícios!\"."
   ]
  },
  {
   "cell_type": "code",
   "execution_count": 29,
   "id": "6ae35606-09fa-4d14-9517-6b30b2a8c9a3",
   "metadata": {},
   "outputs": [
    {
     "name": "stdin",
     "output_type": "stream",
     "text": [
      " qual seu nome? Carolina\n"
     ]
    },
    {
     "name": "stdout",
     "output_type": "stream",
     "text": [
      "Parabens,Carolina, você terminou todos os exercícios\n"
     ]
    }
   ],
   "source": [
    "usuario =  input( ' qual seu nome?')\n",
    "print( f'Parabens,{usuario}, você terminou todos os exercícios')"
   ]
  },
  {
   "cell_type": "code",
   "execution_count": null,
   "id": "1e2fb57a-ca0c-4b92-a662-a6403cebf169",
   "metadata": {},
   "outputs": [],
   "source": []
  }
 ],
 "metadata": {
  "kernelspec": {
   "display_name": "Python 3 (ipykernel)",
   "language": "python",
   "name": "python3"
  },
  "language_info": {
   "codemirror_mode": {
    "name": "ipython",
    "version": 3
   },
   "file_extension": ".py",
   "mimetype": "text/x-python",
   "name": "python",
   "nbconvert_exporter": "python",
   "pygments_lexer": "ipython3",
   "version": "3.13.5"
  }
 },
 "nbformat": 4,
 "nbformat_minor": 5
}
