{
 "cells": [
  {
   "cell_type": "markdown",
   "id": "7428adc7-7719-4a5b-8b3a-d0189aa81e66",
   "metadata": {},
   "source": [
    "# Função print \n",
    "Serve para exibir informações na tela.\n",
    "\n",
    "- Sintaxe base\n",
    "\n",
    "print(object(s),sep =separator,end=end,file=file,flush=flush"
   ]
  },
  {
   "cell_type": "code",
   "execution_count": 11,
   "id": "23473b81-1851-4532-8119-282faa02601a",
   "metadata": {},
   "outputs": [
    {
     "name": "stdout",
     "output_type": "stream",
     "text": [
      "Olá, sou o assistente de atendimento. Como você se chama?\n"
     ]
    },
    {
     "name": "stdin",
     "output_type": "stream",
     "text": [
      " Carol\n"
     ]
    },
    {
     "name": "stdout",
     "output_type": "stream",
     "text": [
      "Ola,Carol. Em que posso ajudar?\n"
     ]
    }
   ],
   "source": [
    "print(\"Olá, sou o assistente de atendimento. Como você se chama?\")\n",
    "nome = input()\n",
    "print(\"Ola,\"+ nome + \". Em que posso ajudar?\")"
   ]
  },
  {
   "cell_type": "markdown",
   "id": "63b6a34c-9ba3-437a-870d-c8cf4f04df03",
   "metadata": {},
   "source": [
    "- sep : separador, que especifica como juntar os objetos\n",
    "- sep =\",\" vai colocar , no meio das strings"
   ]
  },
  {
   "cell_type": "code",
   "execution_count": 12,
   "id": "87d7ff16-e28b-43be-ace9-979b85173ab4",
   "metadata": {},
   "outputs": [
    {
     "name": "stdout",
     "output_type": "stream",
     "text": [
      "Ola mundo,Eu sou a Carolina,Esse é um curso de python para análise de dados\n"
     ]
    }
   ],
   "source": [
    "print('Ola mundo','Eu sou a Carolina', 'Esse é um curso de python para análise de dados',sep = \",\")"
   ]
  },
  {
   "cell_type": "markdown",
   "id": "2ca0b559-48b4-421b-b299-c18d2cc8343e",
   "metadata": {},
   "source": [
    "- end : caractere que fica no fim da linha\n",
    "  "
   ]
  },
  {
   "cell_type": "code",
   "execution_count": 13,
   "id": "2e896ac3-8997-456e-8199-4c36be654ab7",
   "metadata": {},
   "outputs": [
    {
     "name": "stdout",
     "output_type": "stream",
     "text": [
      "Ola\n",
      "Tchau\n"
     ]
    }
   ],
   "source": [
    "print(\"Ola\")\n",
    "print(\"Tchau\")"
   ]
  },
  {
   "cell_type": "code",
   "execution_count": 14,
   "id": "2dca880c-4204-45f1-ba37-658b9604f5b6",
   "metadata": {},
   "outputs": [
    {
     "name": "stdout",
     "output_type": "stream",
     "text": [
      "Ola Tchau\n"
     ]
    }
   ],
   "source": [
    "print(\"Ola\", end =\" \")  # não pula a linha, somente dá um espaço ou qlq coisa que eu colocar no end\n",
    "print(\"Tchau\")"
   ]
  },
  {
   "cell_type": "markdown",
   "id": "8b61e33b-37f3-4c5d-952f-6e31444a6693",
   "metadata": {},
   "source": [
    "# Função input\n",
    "Sintaxe : input(prompt='')\n",
    "Parametros: prompt(opcional,padrao:*) \n",
    "- Exibe uma mensagem antes do usuário para fornecer contexto"
   ]
  },
  {
   "cell_type": "code",
   "execution_count": 15,
   "id": "c0c8c412-3da2-426a-946c-3d1098202615",
   "metadata": {},
   "outputs": [
    {
     "name": "stdin",
     "output_type": "stream",
     "text": [
      "Qual a sua idade? 15\n"
     ]
    },
    {
     "name": "stdout",
     "output_type": "stream",
     "text": [
      "15\n"
     ]
    }
   ],
   "source": [
    "idade = input(\"Qual a sua idade?\")\n",
    "print(idade)"
   ]
  },
  {
   "cell_type": "code",
   "execution_count": 16,
   "id": "8f9df7b2-7945-41c3-959b-471c793aa1b2",
   "metadata": {},
   "outputs": [
    {
     "name": "stdin",
     "output_type": "stream",
     "text": [
      "Olá, sou o assistente de atendimento. Como você se chama? Carol\n"
     ]
    },
    {
     "name": "stdout",
     "output_type": "stream",
     "text": [
      "Ola,Carol. Em que posso ajudar?\n"
     ]
    }
   ],
   "source": [
    "nome = input (\"Olá, sou o assistente de atendimento. Como você se chama?\")\n",
    "print(\"Ola,\"+ nome + \". Em que posso ajudar?\")"
   ]
  },
  {
   "cell_type": "markdown",
   "id": "f16f5c08-548e-4e34-bb32-9c0388850852",
   "metadata": {},
   "source": [
    "# Comentários\n",
    "Um texto que não é código, onde devemos colocar informações sobre o que o código faz"
   ]
  },
  {
   "cell_type": "code",
   "execution_count": 17,
   "id": "141718e4-d9a2-40d8-971e-ea6e5bae6ca2",
   "metadata": {},
   "outputs": [
    {
     "data": {
      "text/plain": [
       "' \\ncomentário grande \\n1.\\n2.\\n3.\\nbla bla bla\\nbla bla bla\\n'"
      ]
     },
     "execution_count": 17,
     "metadata": {},
     "output_type": "execute_result"
    }
   ],
   "source": [
    "\"\"\" \n",
    "comentário grande \n",
    "1.\n",
    "2.\n",
    "3.\n",
    "bla bla bla\n",
    "bla bla bla\n",
    "\"\"\"\n"
   ]
  },
  {
   "cell_type": "markdown",
   "id": "f3a3f81d-d02c-4d6d-9fdd-4ac9e722988e",
   "metadata": {},
   "source": [
    "# Variáveis\n",
    "Uma \"caixa\" que usamos para armazenar uma informação, pode ser número, texto, imagem, tabela, etc.\n",
    "é um dado registrado na memória do computador.\n",
    "\n",
    "## Atribuição\n",
    "É o ato de registrar uma informação em uma variável, em py usamos = (colocar a informação)\n"
   ]
  },
  {
   "cell_type": "code",
   "execution_count": 20,
   "id": "1eeb9f6f-2a48-4e88-9205-d34ef93fa7a4",
   "metadata": {},
   "outputs": [],
   "source": [
    "# variavel_Destino =informacao_origem # salvamos a informação na variavel"
   ]
  },
  {
   "cell_type": "code",
   "execution_count": null,
   "id": "0452fa44-97a0-4914-91ef-e8aa4edf6c27",
   "metadata": {},
   "outputs": [],
   "source": [
    "a = 2 #(atribui a variável a, a informação 2)"
   ]
  },
  {
   "cell_type": "code",
   "execution_count": null,
   "id": "72d58a8f-84a5-47c5-84aa-89ce95ab2326",
   "metadata": {},
   "outputs": [],
   "source": [
    "print(a)"
   ]
  },
  {
   "cell_type": "markdown",
   "id": "b199d5b4-9f65-44bc-b0d3-28566fd98b7c",
   "metadata": {},
   "source": [
    "# Tipos de dados\n",
    "Númer, texto, etc\n",
    "\n",
    "Verificar o tipo de dado em python é feito através de  type(). Ele recebe como argumento uma variáavel ou objeto qualquer (texto,numero,etc)"
   ]
  },
  {
   "cell_type": "markdown",
   "id": "a2f98e5a-7ff4-4c5c-8859-d653f9f267c7",
   "metadata": {},
   "source": [
    "## Números inteiros (int)\n",
    "São os que não tem  parte  decimal, incluindo os  negativos. Em py, para criar um número inteiro basta escrever o número  sem o ponto.\n"
   ]
  },
  {
   "cell_type": "code",
   "execution_count": null,
   "id": "1ca10fe9-42ab-47a0-8727-3a32639a4e86",
   "metadata": {},
   "outputs": [],
   "source": [
    "x = 2\n",
    "y = 5"
   ]
  },
  {
   "cell_type": "code",
   "execution_count": null,
   "id": "2d45420e-b764-4e5d-b4cb-8ca411b5ad96",
   "metadata": {},
   "outputs": [],
   "source": [
    "print(type(x))\n",
    "print(type(y))"
   ]
  },
  {
   "cell_type": "markdown",
   "id": "184c9486-05cc-4161-b728-827f6229d676",
   "metadata": {},
   "source": [
    "## Números com parte decimal, ponto flutuante(float)\n",
    "Números com parte decimal (1.2) são chamados de float em programação. Eles são definidos digitando um número com ponto(.)"
   ]
  },
  {
   "cell_type": "code",
   "execution_count": null,
   "id": "2a03c067-3b40-4904-a457-8bea6b28ef7a",
   "metadata": {},
   "outputs": [],
   "source": [
    "p = 1.2\n",
    "e = 3.14"
   ]
  },
  {
   "cell_type": "code",
   "execution_count": null,
   "id": "f1a76048-71a3-4ee7-aa53-4ec918535e8a",
   "metadata": {},
   "outputs": [],
   "source": [
    "print(type(p))\n",
    "print(type(e))"
   ]
  },
  {
   "cell_type": "markdown",
   "id": "866b942a-a708-4df0-9333-81d505311644",
   "metadata": {},
   "source": [
    "## Texto (string)\n",
    "\n",
    "Uma string é feninida pelo uso de \"\" bi inicio e fim do texto em questão, seja elas  simples ('') ou duplas (\"\").\n"
   ]
  },
  {
   "cell_type": "code",
   "execution_count": null,
   "id": "fb5410b8-c39e-4a0a-9cf3-c50a09096fd6",
   "metadata": {},
   "outputs": [],
   "source": [
    "nome = 'Ana Carolina'\n",
    "print (nome)"
   ]
  },
  {
   "cell_type": "code",
   "execution_count": 10,
   "id": "ffb6901e-20d7-4cd1-afa5-a3dc91fafd86",
   "metadata": {},
   "outputs": [
    {
     "name": "stdout",
     "output_type": "stream",
     "text": [
      "15\n",
      "<class 'str'>\n"
     ]
    }
   ],
   "source": [
    "classe = '15'  #string não pode ser usado para operações\n",
    "print(classe)\n",
    "print(type(classe))"
   ]
  },
  {
   "cell_type": "markdown",
   "id": "c90dd678-ad45-48d7-a9af-5dd9e99462a6",
   "metadata": {},
   "source": [
    "## Booleanos (bool)\n",
    "São variáveis que assumem dois possíveis valores: verdadeiro (true) e falso (false). Podemos definir uma variável booleana com essas palavras reservadas, incluindo as letras maiúsculas."
   ]
  },
  {
   "cell_type": "code",
   "execution_count": 22,
   "id": "352569f1-73bc-4f78-ad6a-9750db255e4c",
   "metadata": {},
   "outputs": [],
   "source": [
    "b1 = False\n",
    "b2 = True"
   ]
  },
  {
   "cell_type": "code",
   "execution_count": 23,
   "id": "28b0ec69-ae2c-47de-9c4a-a744aa028067",
   "metadata": {},
   "outputs": [
    {
     "name": "stdout",
     "output_type": "stream",
     "text": [
      "<class 'bool'>\n",
      "<class 'bool'>\n"
     ]
    }
   ],
   "source": [
    "print(type(b1))\n",
    "print(type(b2))"
   ]
  },
  {
   "cell_type": "markdown",
   "id": "81ae8963-5278-4fad-be5e-12c0c3290636",
   "metadata": {},
   "source": [
    "# Operações básicas\n",
    "\n",
    "* Adição\n",
    "* Subtração\n",
    "* Multiplicação\n",
    "* Divisão\n",
    "* Exponenciação\n",
    "* Divisão Inteira\n",
    "* Módulo (resto)"
   ]
  },
  {
   "cell_type": "markdown",
   "id": "a84565e6-04df-440d-9a72-1f9ced5c4abf",
   "metadata": {},
   "source": [
    "## Soma"
   ]
  },
  {
   "cell_type": "code",
   "execution_count": 26,
   "id": "9be9a5ed-64c3-4859-8905-37d4ad6e166c",
   "metadata": {},
   "outputs": [
    {
     "name": "stdout",
     "output_type": "stream",
     "text": [
      "7\n"
     ]
    }
   ],
   "source": [
    "a = 2 + 5\n",
    "print(a)"
   ]
  },
  {
   "cell_type": "markdown",
   "id": "594dc965-bfbc-4e1e-9784-7f1e80f4fbf0",
   "metadata": {},
   "source": [
    "## Subtração\n"
   ]
  },
  {
   "cell_type": "code",
   "execution_count": 27,
   "id": "c99ac847-0994-4205-9946-255eb3f60381",
   "metadata": {},
   "outputs": [
    {
     "name": "stdout",
     "output_type": "stream",
     "text": [
      "5\n"
     ]
    }
   ],
   "source": [
    "a = 7\n",
    "b = 2\n",
    "c = a - b\n",
    "print(c)"
   ]
  },
  {
   "cell_type": "markdown",
   "id": "e4197591-1375-42ca-9908-06ebe92aa942",
   "metadata": {},
   "source": [
    "## Multiplicação"
   ]
  },
  {
   "cell_type": "code",
   "execution_count": 28,
   "id": "cd77c6b1-8b29-4410-b088-956bfa553c34",
   "metadata": {},
   "outputs": [
    {
     "name": "stdout",
     "output_type": "stream",
     "text": [
      "16\n"
     ]
    }
   ],
   "source": [
    "f = 8\n",
    "g = 2\n",
    "h = f * g\n",
    "print(h)"
   ]
  },
  {
   "cell_type": "markdown",
   "id": "451df12a-15a0-4de2-a58a-0f5999f1faf1",
   "metadata": {},
   "source": [
    "## Divisão"
   ]
  },
  {
   "cell_type": "code",
   "execution_count": 33,
   "id": "850eeb5f-b9c8-48e6-8cb2-e4145e649e29",
   "metadata": {},
   "outputs": [
    {
     "name": "stdout",
     "output_type": "stream",
     "text": [
      "70\n",
      "35.0\n"
     ]
    }
   ],
   "source": [
    "idade_ana = 36\n",
    "idade_fernanda = 34\n",
    "soma_idades = idade_ana + idade_fernanda\n",
    "\n",
    "print(soma_idades)\n",
    "\n",
    "media = (soma_idades) / 2\n",
    "print(media)"
   ]
  },
  {
   "cell_type": "markdown",
   "id": "656414d9-0015-4df3-b511-0f3a5175b174",
   "metadata": {},
   "source": [
    "## Exponenciação"
   ]
  },
  {
   "cell_type": "code",
   "execution_count": 34,
   "id": "3a39c556-6265-449e-aed5-5ccecc64895c",
   "metadata": {},
   "outputs": [
    {
     "name": "stdout",
     "output_type": "stream",
     "text": [
      "25\n"
     ]
    }
   ],
   "source": [
    "var1 = 5** 2\n",
    "print(var1)"
   ]
  },
  {
   "cell_type": "markdown",
   "id": "e288156a-ee32-4c5d-895e-ea34a069a4c3",
   "metadata": {},
   "source": [
    "## Módulo"
   ]
  },
  {
   "cell_type": "code",
   "execution_count": 37,
   "id": "de018e8a-da20-4235-8167-7d276c8fd10a",
   "metadata": {},
   "outputs": [
    {
     "name": "stdout",
     "output_type": "stream",
     "text": [
      "3.5\n"
     ]
    }
   ],
   "source": [
    "c = a/b #divisão simples\n",
    "print(c)"
   ]
  },
  {
   "cell_type": "code",
   "execution_count": 35,
   "id": "b878ebf2-07ca-4790-85a1-08c32b33dc27",
   "metadata": {},
   "outputs": [
    {
     "name": "stdout",
     "output_type": "stream",
     "text": [
      "3\n"
     ]
    }
   ],
   "source": [
    "c = a//b  # divisão inteira - só pega a parte inteira\n",
    "print(c)"
   ]
  },
  {
   "cell_type": "code",
   "execution_count": 36,
   "id": "fce356b8-6386-40bc-963d-d2f1e2c2002d",
   "metadata": {},
   "outputs": [
    {
     "name": "stdout",
     "output_type": "stream",
     "text": [
      "1\n"
     ]
    }
   ],
   "source": [
    "c = a%b # só pega o resto\n",
    "print(c)"
   ]
  },
  {
   "cell_type": "markdown",
   "id": "2a5418d7-8279-4824-a2df-f14be4ba0055",
   "metadata": {},
   "source": [
    "## Funções matemáticas (biblioteca math)\n",
    "* Rauz quadrado (math.sqrt)\n",
    "* Fatorial (math.factorial)\n",
    "  \n",
    "https://docs.python.org/pt-br/3.13/library/math.html\n"
   ]
  },
  {
   "cell_type": "code",
   "execution_count": 39,
   "id": "38e21021-fba5-4a0f-8bb8-3729dd136bb0",
   "metadata": {},
   "outputs": [],
   "source": [
    "import math  # importar a  bibliotecqa"
   ]
  },
  {
   "cell_type": "code",
   "execution_count": 40,
   "id": "44f5fd51-b397-44c2-ab9e-121993552948",
   "metadata": {},
   "outputs": [
    {
     "data": {
      "text/plain": [
       "4.123105625617661"
      ]
     },
     "execution_count": 40,
     "metadata": {},
     "output_type": "execute_result"
    }
   ],
   "source": [
    "math.sqrt (17)"
   ]
  },
  {
   "cell_type": "code",
   "execution_count": 42,
   "id": "c2a1c37b-e462-46a4-898e-aadc924ee25e",
   "metadata": {},
   "outputs": [
    {
     "data": {
      "text/plain": [
       "5040"
      ]
     },
     "execution_count": 42,
     "metadata": {},
     "output_type": "execute_result"
    }
   ],
   "source": [
    "math.factorial(7)"
   ]
  },
  {
   "cell_type": "markdown",
   "id": "0eca4f87-818a-48ad-a836-70e578687733",
   "metadata": {},
   "source": [
    "## Ordem de precedência\n",
    "\n",
    "Segue a ordem de precedência matemática comum\n",
    "* 1 - ** exponenciação\n",
    "* 2- *, /, //, % Multiplicação, divisão, divisão inteira e módulo\n",
    "* 3 - +, - Adição e subtração\n",
    "\n",
    "Usar parenteses () se quiser organizar em outra ordem"
   ]
  },
  {
   "cell_type": "markdown",
   "id": "2e8a63dd-97ba-456b-a313-30533c0ea053",
   "metadata": {},
   "source": [
    "### Valor presente\n",
    "Suponha que você deseja saber quanto precisa investir hoje para alcançar um montante específico no futuro (R$1000), dado uma taxa de juros anual (5%) composta em um periodo de 10 anos.\n",
    "\n",
    "PV = FV/(1+r)**n\n",
    "\n",
    "Onde:\n",
    "* PV é o valor presente.\n",
    "* FV é o valor futuro\n",
    "* r é a taxa de juros em decimal\n",
    "* n é o número de anos\n",
    "\n"
   ]
  },
  {
   "cell_type": "code",
   "execution_count": 92,
   "id": "28275f9c-5c8f-4280-b515-a4fc28f9a16c",
   "metadata": {},
   "outputs": [
    {
     "name": "stdout",
     "output_type": "stream",
     "text": [
      "613.9132535407591\n"
     ]
    }
   ],
   "source": [
    "valor_futuro = 1000\n",
    "r = 0.05\n",
    "n = 10\n",
    "\n",
    "valor_presente = valor_futuro/((1+r)**n)\n",
    "\n",
    "print(valor_presente)\n",
    "    \n"
   ]
  },
  {
   "cell_type": "markdown",
   "id": "14066d04-bbe9-448c-ace6-4cf59750c2db",
   "metadata": {},
   "source": [
    "# String - Cadeia de  caracteres\n",
    "\n",
    "* lower ()\n",
    "* upper()\n",
    "* strip ()\n",
    "* replace()\n",
    "* startswith()\n",
    "* endswith()\n",
    "* find()\n",
    "* len()\n",
    "* title()\n",
    "* split()\n",
    "* join()"
   ]
  },
  {
   "cell_type": "code",
   "execution_count": 63,
   "id": "11f9f50b-4c81-4d9d-8387-b92028a81e19",
   "metadata": {},
   "outputs": [
    {
     "data": {
      "text/plain": [
       "'Machado de Assis'"
      ]
     },
     "execution_count": 63,
     "metadata": {},
     "output_type": "execute_result"
    }
   ],
   "source": [
    "nome_exemplo = 'Machado de Assis'\n",
    "nome_exemplo"
   ]
  },
  {
   "cell_type": "markdown",
   "id": "a3a1347a-02e9-4be7-862a-a94c4398c71c",
   "metadata": {},
   "source": [
    "## Método lower = deixa tudo no minúsculo"
   ]
  },
  {
   "cell_type": "code",
   "execution_count": 47,
   "id": "43e99578-d3b3-49cd-ad00-6f63cff975ea",
   "metadata": {},
   "outputs": [
    {
     "data": {
      "text/plain": [
       "' machado de assis'"
      ]
     },
     "execution_count": 47,
     "metadata": {},
     "output_type": "execute_result"
    }
   ],
   "source": [
    "nome_exemplo.lower ()"
   ]
  },
  {
   "cell_type": "markdown",
   "id": "1b9fde70-1f4b-44a1-a6b1-f968d1260565",
   "metadata": {},
   "source": [
    "## Método upper = deixa tudo no maiúsculo\n"
   ]
  },
  {
   "cell_type": "code",
   "execution_count": 48,
   "id": "a4224167-8cbc-47e2-b6ee-7313d1ba7e2d",
   "metadata": {},
   "outputs": [
    {
     "data": {
      "text/plain": [
       "' MACHADO DE ASSIS'"
      ]
     },
     "execution_count": 48,
     "metadata": {},
     "output_type": "execute_result"
    }
   ],
   "source": [
    "nome_exemplo.upper ()"
   ]
  },
  {
   "cell_type": "markdown",
   "id": "7d791d47-0a1c-436a-8e8f-693724546732",
   "metadata": {},
   "source": [
    "## Método strip = Limpa espaços no início e fim da string"
   ]
  },
  {
   "cell_type": "code",
   "execution_count": 50,
   "id": "225b069e-8a53-4160-a664-b9ee4b43f81e",
   "metadata": {},
   "outputs": [],
   "source": [
    "exemplo_strip = \"   Carol     \""
   ]
  },
  {
   "cell_type": "code",
   "execution_count": 52,
   "id": "ad820df0-9f2c-4741-8722-184eed16b2c4",
   "metadata": {},
   "outputs": [
    {
     "name": "stdout",
     "output_type": "stream",
     "text": [
      "   Carol     \n"
     ]
    }
   ],
   "source": [
    "print(exemplo_strip)"
   ]
  },
  {
   "cell_type": "code",
   "execution_count": 53,
   "id": "780f4d93-9369-4a24-b95a-db9d19abd4e4",
   "metadata": {},
   "outputs": [
    {
     "data": {
      "text/plain": [
       "'Carol'"
      ]
     },
     "execution_count": 53,
     "metadata": {},
     "output_type": "execute_result"
    }
   ],
   "source": [
    "exemplo_strip.strip()"
   ]
  },
  {
   "cell_type": "markdown",
   "id": "5288caee-a764-43d5-b177-8b5544c31128",
   "metadata": {},
   "source": [
    "## Método replace = substituir uma string"
   ]
  },
  {
   "cell_type": "code",
   "execution_count": 55,
   "id": "3e3cc658-a0a1-49db-b038-18e9cbb91b2a",
   "metadata": {},
   "outputs": [
    {
     "data": {
      "text/plain": [
       "' Martelo de Assis'"
      ]
     },
     "execution_count": 55,
     "metadata": {},
     "output_type": "execute_result"
    }
   ],
   "source": [
    "nome_exemplo.replace('Machado','Martelo')\n"
   ]
  },
  {
   "cell_type": "markdown",
   "id": "af2f2573-b922-4d66-bc95-6e26b1122085",
   "metadata": {},
   "source": [
    "## Método startswith = Verifica se a string começa com a subtring desejada"
   ]
  },
  {
   "cell_type": "code",
   "execution_count": 65,
   "id": "1f75e5c8-21b8-4c42-a210-853db04c5ed0",
   "metadata": {},
   "outputs": [
    {
     "data": {
      "text/plain": [
       "True"
      ]
     },
     "execution_count": 65,
     "metadata": {},
     "output_type": "execute_result"
    }
   ],
   "source": [
    "nome_exemplo.startswith('M')"
   ]
  },
  {
   "cell_type": "code",
   "execution_count": 61,
   "id": "89b8ee2f-0d04-485e-92fa-e57669d0b13d",
   "metadata": {},
   "outputs": [
    {
     "name": "stdout",
     "output_type": "stream",
     "text": [
      " Machado de Assis\n"
     ]
    }
   ],
   "source": [
    "print(nome_exemplo)"
   ]
  },
  {
   "cell_type": "code",
   "execution_count": 64,
   "id": "9850ce57-656e-45f6-87ea-df4577976e0a",
   "metadata": {},
   "outputs": [
    {
     "data": {
      "text/plain": [
       "False"
      ]
     },
     "execution_count": 64,
     "metadata": {},
     "output_type": "execute_result"
    }
   ],
   "source": [
    "nome_exemplo.startswith('R')"
   ]
  },
  {
   "cell_type": "markdown",
   "id": "95f4726f-13e5-41cc-8ee1-0aeda1d05c97",
   "metadata": {},
   "source": [
    "## Método endswith = Verifica se a string termina com a subtring desejada"
   ]
  },
  {
   "cell_type": "code",
   "execution_count": 68,
   "id": "d1e62139-ddda-46d7-a0bb-69d7c70bc670",
   "metadata": {},
   "outputs": [
    {
     "data": {
      "text/plain": [
       "False"
      ]
     },
     "execution_count": 68,
     "metadata": {},
     "output_type": "execute_result"
    }
   ],
   "source": [
    "nome_exemplo.endswith('A')"
   ]
  },
  {
   "cell_type": "code",
   "execution_count": 71,
   "id": "bc808e54-8c88-4832-be9e-5a2db60adc79",
   "metadata": {},
   "outputs": [
    {
     "data": {
      "text/plain": [
       "True"
      ]
     },
     "execution_count": 71,
     "metadata": {},
     "output_type": "execute_result"
    }
   ],
   "source": [
    "nome_exemplo.endswith('s')"
   ]
  },
  {
   "cell_type": "markdown",
   "id": "2f4f71de-84ad-4b54-b33e-6dec1e8f33b7",
   "metadata": {},
   "source": [
    "## Método find = Encontrar a posição da substring"
   ]
  },
  {
   "cell_type": "code",
   "execution_count": 72,
   "id": "f02165ca-0e87-4aa4-9458-770839a599ea",
   "metadata": {},
   "outputs": [
    {
     "data": {
      "text/plain": [
       "8"
      ]
     },
     "execution_count": 72,
     "metadata": {},
     "output_type": "execute_result"
    }
   ],
   "source": [
    "nome_exemplo.find('de')"
   ]
  },
  {
   "cell_type": "markdown",
   "id": "6754ec89-8ba9-43ae-8de7-acc4eeeeb8f1",
   "metadata": {},
   "source": [
    "## Função len = Encontrar o tamanho da string"
   ]
  },
  {
   "cell_type": "code",
   "execution_count": 75,
   "id": "27881aa8-851c-4a6f-8a22-2d20e77dca7c",
   "metadata": {},
   "outputs": [
    {
     "data": {
      "text/plain": [
       "16"
      ]
     },
     "execution_count": 75,
     "metadata": {},
     "output_type": "execute_result"
    }
   ],
   "source": [
    "len(nome_exemplo)"
   ]
  },
  {
   "cell_type": "markdown",
   "id": "9b4a718a-78fc-452c-b1b7-9610974e5568",
   "metadata": {},
   "source": [
    "## Método title = Coloca cada palavra com a primeira letra maiuscula"
   ]
  },
  {
   "cell_type": "code",
   "execution_count": 76,
   "id": "6d7e7af1-2876-4ee4-a2ba-496e80858193",
   "metadata": {},
   "outputs": [
    {
     "data": {
      "text/plain": [
       "'Machado De Assis'"
      ]
     },
     "execution_count": 76,
     "metadata": {},
     "output_type": "execute_result"
    }
   ],
   "source": [
    "nome_exemplo.title()"
   ]
  },
  {
   "cell_type": "markdown",
   "id": "1ea91be5-d68b-4313-8db2-4be065cf905a",
   "metadata": {},
   "source": [
    "## Método split = separa uma string por uma substring"
   ]
  },
  {
   "cell_type": "code",
   "execution_count": 77,
   "id": "28928b82-fd1b-4e71-8bef-9d8b936cb260",
   "metadata": {},
   "outputs": [],
   "source": [
    "nome_split = nome_exemplo.split(' ')"
   ]
  },
  {
   "cell_type": "code",
   "execution_count": 78,
   "id": "80651c61-4cb0-4423-97b4-829d0a6f425c",
   "metadata": {},
   "outputs": [
    {
     "name": "stdout",
     "output_type": "stream",
     "text": [
      "['Machado', 'de', 'Assis']\n"
     ]
    }
   ],
   "source": [
    "print(nome_split)"
   ]
  },
  {
   "cell_type": "code",
   "execution_count": 79,
   "id": "8436d974-8cad-411c-b1fe-86543f4285c7",
   "metadata": {},
   "outputs": [
    {
     "data": {
      "text/plain": [
       "list"
      ]
     },
     "execution_count": 79,
     "metadata": {},
     "output_type": "execute_result"
    }
   ],
   "source": [
    "type(nome_split)"
   ]
  },
  {
   "cell_type": "code",
   "execution_count": 81,
   "id": "692e0c9c-2796-4757-87cb-a16b1e9cba62",
   "metadata": {},
   "outputs": [
    {
     "data": {
      "text/plain": [
       "'de'"
      ]
     },
     "execution_count": 81,
     "metadata": {},
     "output_type": "execute_result"
    }
   ],
   "source": [
    "nome_split[1]"
   ]
  },
  {
   "cell_type": "markdown",
   "id": "33c36822-8e2b-4538-8b9f-a5994b4fdca6",
   "metadata": {},
   "source": [
    "## Método join = Junta os elementos de lista com o parametro passado"
   ]
  },
  {
   "cell_type": "code",
   "execution_count": 82,
   "id": "56095684-a35c-44b2-ac04-0fd5ac8b70b1",
   "metadata": {},
   "outputs": [
    {
     "data": {
      "text/plain": [
       "'Machado-de-Assis'"
      ]
     },
     "execution_count": 82,
     "metadata": {},
     "output_type": "execute_result"
    }
   ],
   "source": [
    "'-'.join(nome_split)\n"
   ]
  },
  {
   "cell_type": "code",
   "execution_count": 83,
   "id": "f7308a2d-907a-4892-999c-38b7f3e5e25f",
   "metadata": {},
   "outputs": [
    {
     "data": {
      "text/plain": [
       "'MachadoTTdeTTAssis'"
      ]
     },
     "execution_count": 83,
     "metadata": {},
     "output_type": "execute_result"
    }
   ],
   "source": [
    "'TT'.join(nome_split)"
   ]
  },
  {
   "cell_type": "markdown",
   "id": "a948cfe6-0764-4839-964b-5a8f23198a20",
   "metadata": {},
   "source": [
    "## Indexação de string"
   ]
  },
  {
   "cell_type": "code",
   "execution_count": 84,
   "id": "e08496fe-6b78-4ad7-bd27-fa5dfd146ee6",
   "metadata": {},
   "outputs": [
    {
     "data": {
      "text/plain": [
       "'Machado de Assis'"
      ]
     },
     "execution_count": 84,
     "metadata": {},
     "output_type": "execute_result"
    }
   ],
   "source": [
    "nome_exemplo"
   ]
  },
  {
   "cell_type": "code",
   "execution_count": 86,
   "id": "0be4e4dd-b653-454f-90fe-60dc051af576",
   "metadata": {},
   "outputs": [
    {
     "data": {
      "text/plain": [
       "'M'"
      ]
     },
     "execution_count": 86,
     "metadata": {},
     "output_type": "execute_result"
    }
   ],
   "source": [
    "nome_exemplo[0] # pega a letra que esta na 1 posição"
   ]
  },
  {
   "cell_type": "code",
   "execution_count": 87,
   "id": "4b54a2a4-6b43-4b02-bd2d-5bf4063553f5",
   "metadata": {},
   "outputs": [
    {
     "data": {
      "text/plain": [
       "'d'"
      ]
     },
     "execution_count": 87,
     "metadata": {},
     "output_type": "execute_result"
    }
   ],
   "source": [
    "nome_exemplo[5] "
   ]
  },
  {
   "cell_type": "code",
   "execution_count": 88,
   "id": "2caadf45-dbcb-4431-89ea-82ca04a07606",
   "metadata": {},
   "outputs": [
    {
     "data": {
      "text/plain": [
       "'hado'"
      ]
     },
     "execution_count": 88,
     "metadata": {},
     "output_type": "execute_result"
    }
   ],
   "source": [
    "nome_exemplo[3:7] # pega a letra que esta na 6 posição"
   ]
  },
  {
   "cell_type": "code",
   "execution_count": 89,
   "id": "f5ec805d-a1d3-455d-aad3-7032892ea5af",
   "metadata": {},
   "outputs": [
    {
     "data": {
      "text/plain": [
       "'s'"
      ]
     },
     "execution_count": 89,
     "metadata": {},
     "output_type": "execute_result"
    }
   ],
   "source": [
    "nome_exemplo[-1 #pega de trás para frente"
   ]
  },
  {
   "cell_type": "markdown",
   "id": "f251b002-12a2-478b-ac47-a067ab6351c8",
   "metadata": {},
   "source": [
    "# Formatação de string"
   ]
  },
  {
   "cell_type": "code",
   "execution_count": 94,
   "id": "68157c3d-96aa-41c5-b75e-7fca22bd73bc",
   "metadata": {},
   "outputs": [
    {
     "data": {
      "text/plain": [
       "' O valor presente é 613.9132535407591'"
      ]
     },
     "execution_count": 94,
     "metadata": {},
     "output_type": "execute_result"
    }
   ],
   "source": [
    "\" O valor presente é {}\".format(valor_presente)"
   ]
  },
  {
   "cell_type": "code",
   "execution_count": 96,
   "id": "c45ceeaf-b5af-4b6f-8358-251df2b08778",
   "metadata": {},
   "outputs": [
    {
     "data": {
      "text/plain": [
       "'O valor presente é 613.9132535407591'"
      ]
     },
     "execution_count": 96,
     "metadata": {},
     "output_type": "execute_result"
    }
   ],
   "source": [
    "f'O valor presente é {valor_presente}'\n"
   ]
  },
  {
   "cell_type": "code",
   "execution_count": 97,
   "id": "de51d1d2-501b-46ca-8e4d-125e37585f9e",
   "metadata": {},
   "outputs": [
    {
     "data": {
      "text/plain": [
       "'O valor presente é 613.91'"
      ]
     },
     "execution_count": 97,
     "metadata": {},
     "output_type": "execute_result"
    }
   ],
   "source": [
    "f'O valor presente é {valor_presente:.2f}'"
   ]
  },
  {
   "cell_type": "markdown",
   "id": "466233f7-c83d-436a-921c-4edcffab291f",
   "metadata": {},
   "source": [
    "### Exemplo"
   ]
  },
  {
   "cell_type": "markdown",
   "id": "80d0c372-6ace-4377-85ca-49473ccb9ae0",
   "metadata": {},
   "source": [
    "Padronizar o nome completo, e extrair o comprimento."
   ]
  },
  {
   "cell_type": "code",
   "execution_count": 100,
   "id": "6a52e0a4-b8eb-4be4-883b-4db3ba0e1734",
   "metadata": {},
   "outputs": [
    {
     "name": "stdout",
     "output_type": "stream",
     "text": [
      "Ana Carolina Jacoby\n"
     ]
    }
   ],
   "source": [
    "nome_completo ='  Ana carolina jacoby  '\n",
    "nome_completo = nome_completo.strip() #retirar os espaços\n",
    "nome_completo = nome_completo.title() # colocar maiuscula em cada nome\n",
    "print(nome_completo)"
   ]
  },
  {
   "cell_type": "code",
   "execution_count": 101,
   "id": "8f200679-7d1a-4140-976f-0ee37202ccfe",
   "metadata": {},
   "outputs": [
    {
     "name": "stdout",
     "output_type": "stream",
     "text": [
      "['Ana', 'Carolina', 'Jacoby']\n"
     ]
    }
   ],
   "source": [
    "nomes = nome_completo.split(' ')\n",
    "print(nomes)"
   ]
  },
  {
   "cell_type": "code",
   "execution_count": 102,
   "id": "5283f39f-2d74-423b-9c49-02aa68dba019",
   "metadata": {},
   "outputs": [
    {
     "name": "stdout",
     "output_type": "stream",
     "text": [
      "Ana\n"
     ]
    }
   ],
   "source": [
    "print(nomes[0])"
   ]
  },
  {
   "cell_type": "code",
   "execution_count": 103,
   "id": "c170b97e-0666-4060-b0ab-3d635776ec82",
   "metadata": {},
   "outputs": [
    {
     "data": {
      "text/plain": [
       "19"
      ]
     },
     "execution_count": 103,
     "metadata": {},
     "output_type": "execute_result"
    }
   ],
   "source": [
    "len(nome_completo)"
   ]
  },
  {
   "cell_type": "markdown",
   "id": "e56c6140-0ea9-43a8-b816-4c1804adceca",
   "metadata": {},
   "source": [
    "# Booleanos - Operações lógicas\n",
    "* é igual a\n",
    "* é maior que\n",
    "* é menor que\n",
    "* é diferente de\n",
    "* é maior ou igual a\n",
    "* é menor ou igual a"
   ]
  },
  {
   "cell_type": "code",
   "execution_count": 104,
   "id": "600954e6-0a7f-4b68-bc64-666f13723075",
   "metadata": {},
   "outputs": [],
   "source": [
    "idade = 30"
   ]
  },
  {
   "cell_type": "code",
   "execution_count": 105,
   "id": "647ffed8-a917-4636-8e20-30c02704d07f",
   "metadata": {},
   "outputs": [
    {
     "data": {
      "text/plain": [
       "True"
      ]
     },
     "execution_count": 105,
     "metadata": {},
     "output_type": "execute_result"
    }
   ],
   "source": [
    "idade > 18 # a>b verifica se a é maior que b\n"
   ]
  },
  {
   "cell_type": "code",
   "execution_count": 106,
   "id": "389738cc-69ba-47cf-a513-ed5984117eb0",
   "metadata": {},
   "outputs": [
    {
     "data": {
      "text/plain": [
       "True"
      ]
     },
     "execution_count": 106,
     "metadata": {},
     "output_type": "execute_result"
    }
   ],
   "source": [
    "idade < 60 # a<b verifica de a é menor que b"
   ]
  },
  {
   "cell_type": "code",
   "execution_count": 107,
   "id": "78471e1e-e1db-4e71-95d3-5cb293a330b7",
   "metadata": {},
   "outputs": [
    {
     "data": {
      "text/plain": [
       "False"
      ]
     },
     "execution_count": 107,
     "metadata": {},
     "output_type": "execute_result"
    }
   ],
   "source": [
    "idade == 40 # a==b  verifica se é igual"
   ]
  },
  {
   "cell_type": "code",
   "execution_count": 108,
   "id": "b2c1d509-4f95-4b44-8811-04e6429153a5",
   "metadata": {},
   "outputs": [
    {
     "data": {
      "text/plain": [
       "True"
      ]
     },
     "execution_count": 108,
     "metadata": {},
     "output_type": "execute_result"
    }
   ],
   "source": [
    "idade!= 40 # a!=b Verifica se a é diferente de b"
   ]
  },
  {
   "cell_type": "code",
   "execution_count": 109,
   "id": "e3a43c58-4508-4cf1-975e-d89e7917e0db",
   "metadata": {},
   "outputs": [
    {
     "data": {
      "text/plain": [
       "True"
      ]
     },
     "execution_count": 109,
     "metadata": {},
     "output_type": "execute_result"
    }
   ],
   "source": [
    "idade>= 18 #verifica se é maior ou igual "
   ]
  },
  {
   "cell_type": "code",
   "execution_count": 110,
   "id": "61be36bf-f568-425a-b4d7-bca5b12d0007",
   "metadata": {},
   "outputs": [
    {
     "data": {
      "text/plain": [
       "True"
      ]
     },
     "execution_count": 110,
     "metadata": {},
     "output_type": "execute_result"
    }
   ],
   "source": [
    "idade <= 60 #verifica se é menor ou igual"
   ]
  },
  {
   "cell_type": "markdown",
   "id": "a47c0544-39ef-4420-9d15-9c4633f0bbc1",
   "metadata": {},
   "source": [
    "# Estrutura de dados/ Coleções"
   ]
  },
  {
   "cell_type": "markdown",
   "id": "a84633c0-5ba6-42d3-ba7c-d7d0318f06ad",
   "metadata": {},
   "source": [
    "## Listas\n",
    "São criadas usando [ ], com itens separados por vírgula.\n",
    "\n",
    "* Operações\n",
    "* 1. Acessso por índice\n",
    "  2. Modificicação de itens por índice\n",
    "  3. Adição de elementos\n",
    "  4. Remoção de elementos (remove e pop)\n",
    "  5. Ordenação (sort, reverse)"
   ]
  },
  {
   "cell_type": "code",
   "execution_count": 2,
   "id": "a186cc9f-08fa-420a-b8e3-32af62bcf127",
   "metadata": {},
   "outputs": [],
   "source": [
    "a = [1,2,3]"
   ]
  },
  {
   "cell_type": "code",
   "execution_count": 3,
   "id": "3ec459ec-58ff-4921-82c5-40129e0fde82",
   "metadata": {},
   "outputs": [
    {
     "name": "stdout",
     "output_type": "stream",
     "text": [
      "[1, 2, 3]\n"
     ]
    }
   ],
   "source": [
    "print(a)"
   ]
  },
  {
   "cell_type": "code",
   "execution_count": 13,
   "id": "787d30ac-ffe7-486d-8ae3-91ab5a9e5b4d",
   "metadata": {},
   "outputs": [],
   "source": [
    "#posso misturar vários tipos de dados numa lista\n",
    "b= [1,'Carol', True]  "
   ]
  },
  {
   "cell_type": "code",
   "execution_count": 5,
   "id": "6d86a4b3-7428-4d5e-9a68-76f80799a396",
   "metadata": {},
   "outputs": [
    {
     "data": {
      "text/plain": [
       "1"
      ]
     },
     "execution_count": 5,
     "metadata": {},
     "output_type": "execute_result"
    }
   ],
   "source": [
    "#acessando os itens da lista - começa em 0\n",
    "a[0]"
   ]
  },
  {
   "cell_type": "markdown",
   "id": "2d6de8c5-6fd5-4cdd-9c45-99e43158b5f1",
   "metadata": {},
   "source": [
    "## Usando slice - o índice inicial é inclusivo, ou seja, ele aparece, o final é exclusiso, não aparece.\n",
    "\n",
    "lista = [6,2,'texto',True]\n",
    "\n",
    "    * 0 1   2    3  (índices) "
   ]
  },
  {
   "cell_type": "code",
   "execution_count": 6,
   "id": "9567b6ce-7bcf-4136-a695-2267499c0e32",
   "metadata": {},
   "outputs": [
    {
     "data": {
      "text/plain": [
       "3"
      ]
     },
     "execution_count": 6,
     "metadata": {},
     "output_type": "execute_result"
    }
   ],
   "source": [
    "# usando slice - o índice inicial é inclusivo, ou seja, ele aparece, o final é exclusiso, não aparece.\n",
    "a[-1]"
   ]
  },
  {
   "cell_type": "code",
   "execution_count": 7,
   "id": "ec97b35b-b6bc-4da7-857c-6d86ba0fe174",
   "metadata": {},
   "outputs": [
    {
     "data": {
      "text/plain": [
       "[2, 3]"
      ]
     },
     "execution_count": 7,
     "metadata": {},
     "output_type": "execute_result"
    }
   ],
   "source": [
    "a[1:3] # pega do índice 1 e o segundo como fim"
   ]
  },
  {
   "cell_type": "code",
   "execution_count": 8,
   "id": "5a77bdf9-5815-4716-8a94-9d336ff25c0c",
   "metadata": {},
   "outputs": [
    {
     "data": {
      "text/plain": [
       "[2, 3]"
      ]
     },
     "execution_count": 8,
     "metadata": {},
     "output_type": "execute_result"
    }
   ],
   "source": [
    "a[1:] #todos elementos a partir do índice 1"
   ]
  },
  {
   "cell_type": "code",
   "execution_count": 9,
   "id": "0ea90a5f-1eb3-4519-a8f7-d3919fce1254",
   "metadata": {},
   "outputs": [
    {
     "data": {
      "text/plain": [
       "[1, 2]"
      ]
     },
     "execution_count": 9,
     "metadata": {},
     "output_type": "execute_result"
    }
   ],
   "source": [
    "a[:2] # todos elementos a partir do índice 2 - não inclui o índice 2"
   ]
  },
  {
   "cell_type": "code",
   "execution_count": 10,
   "id": "744df3e7-35ba-4205-870f-5aec4e726bca",
   "metadata": {},
   "outputs": [
    {
     "data": {
      "text/plain": [
       "list"
      ]
     },
     "execution_count": 10,
     "metadata": {},
     "output_type": "execute_result"
    }
   ],
   "source": [
    "type(a) #vai dizer o tipo de dado total, ou seja uma lista"
   ]
  },
  {
   "cell_type": "code",
   "execution_count": 11,
   "id": "6b512739-95d4-4ac1-8590-8f2a8aabeeac",
   "metadata": {},
   "outputs": [
    {
     "data": {
      "text/plain": [
       "int"
      ]
     },
     "execution_count": 11,
     "metadata": {},
     "output_type": "execute_result"
    }
   ],
   "source": [
    "type(a[1]) #vai dizer o tipo de dado do índice"
   ]
  },
  {
   "cell_type": "code",
   "execution_count": 16,
   "id": "71b233ba-325e-4070-9180-c2cfed2ff958",
   "metadata": {},
   "outputs": [
    {
     "name": "stdout",
     "output_type": "stream",
     "text": [
      "<class 'int'>\n",
      "<class 'str'>\n",
      "<class 'bool'>\n"
     ]
    }
   ],
   "source": [
    "print(type(b[0]))\n",
    "print(type(b[1]))\n",
    "print(type(b[2]))"
   ]
  },
  {
   "cell_type": "code",
   "execution_count": 18,
   "id": "33a47b0d-5c71-425e-ab81-44b89a1da28c",
   "metadata": {},
   "outputs": [],
   "source": [
    "# Alterando um elemento na lista - passar o índice que será alterado e o novo valor\n",
    "\n",
    "a[1]= 5"
   ]
  },
  {
   "cell_type": "code",
   "execution_count": 19,
   "id": "8566ef85-0825-44d9-83b6-ed3e9d10ed7e",
   "metadata": {},
   "outputs": [
    {
     "data": {
      "text/plain": [
       "[1, 5, 3, 9]"
      ]
     },
     "execution_count": 19,
     "metadata": {},
     "output_type": "execute_result"
    }
   ],
   "source": [
    "a"
   ]
  },
  {
   "cell_type": "code",
   "execution_count": 33,
   "id": "623cc6d0-75be-4f9e-9b42-11f73880d1cc",
   "metadata": {},
   "outputs": [],
   "source": [
    "# Adicionando um elemento a lista - usar append\n",
    "\n",
    "a.append(9)\n",
    "a.append(3)\n"
   ]
  },
  {
   "cell_type": "code",
   "execution_count": 34,
   "id": "8d58f02b-d4a6-4ab3-ba48-3e2a78f11e4d",
   "metadata": {},
   "outputs": [
    {
     "data": {
      "text/plain": [
       "[1, 5, 9, 9, 3]"
      ]
     },
     "execution_count": 34,
     "metadata": {},
     "output_type": "execute_result"
    }
   ],
   "source": [
    "a"
   ]
  },
  {
   "cell_type": "code",
   "execution_count": 35,
   "id": "3d24e471-0182-42a8-b1d1-99d6fbcd0b8a",
   "metadata": {},
   "outputs": [],
   "source": [
    "#  Remove um elemento da lista - método remove a primeira ocorrencia do que vc passou\n",
    "\n",
    "a.remove(9)"
   ]
  },
  {
   "cell_type": "code",
   "execution_count": 32,
   "id": "82f5b94e-5c55-47c4-a907-70049674568e",
   "metadata": {},
   "outputs": [
    {
     "data": {
      "text/plain": [
       "[1, 5, 9]"
      ]
     },
     "execution_count": 32,
     "metadata": {},
     "output_type": "execute_result"
    }
   ],
   "source": [
    "a"
   ]
  },
  {
   "cell_type": "code",
   "execution_count": 36,
   "id": "5e91ea24-ceba-491f-81c6-0515a97168d6",
   "metadata": {},
   "outputs": [],
   "source": [
    "# Remove um elemento baseado no índice - método pop\n",
    "elemento_removido = a.pop(2)"
   ]
  },
  {
   "cell_type": "code",
   "execution_count": 37,
   "id": "e05da367-5f02-4bac-9fbc-ba274d04ce99",
   "metadata": {},
   "outputs": [
    {
     "data": {
      "text/plain": [
       "[1, 5, 3]"
      ]
     },
     "execution_count": 37,
     "metadata": {},
     "output_type": "execute_result"
    }
   ],
   "source": [
    "a"
   ]
  },
  {
   "cell_type": "code",
   "execution_count": 38,
   "id": "ea393bdd-5669-4326-a56e-8021eb7d12ac",
   "metadata": {},
   "outputs": [
    {
     "data": {
      "text/plain": [
       "9"
      ]
     },
     "execution_count": 38,
     "metadata": {},
     "output_type": "execute_result"
    }
   ],
   "source": [
    "elemento_removido"
   ]
  },
  {
   "cell_type": "code",
   "execution_count": 40,
   "id": "c06f1a5c-387f-4764-a717-86d26ce325af",
   "metadata": {},
   "outputs": [],
   "source": [
    "# Ordenação de listas\n",
    "l =[1,2,5,1,6,9,2]\n"
   ]
  },
  {
   "cell_type": "code",
   "execution_count": 41,
   "id": "82b2dbd9-acf8-4b6b-aa9d-c2696b19d2e4",
   "metadata": {},
   "outputs": [
    {
     "data": {
      "text/plain": [
       "[1, 2, 5, 1, 6, 9, 2]"
      ]
     },
     "execution_count": 41,
     "metadata": {},
     "output_type": "execute_result"
    }
   ],
   "source": [
    "l"
   ]
  },
  {
   "cell_type": "code",
   "execution_count": 42,
   "id": "a4aab225-4d91-4a3e-9285-0ecba31311df",
   "metadata": {},
   "outputs": [],
   "source": [
    "# Método sort - ordena do menor para o  maior e em ordem alfabética"
   ]
  },
  {
   "cell_type": "code",
   "execution_count": 42,
   "id": "e1adbf38-0037-4568-9e4d-a746032ba8d5",
   "metadata": {},
   "outputs": [],
   "source": [
    "l.sort()"
   ]
  },
  {
   "cell_type": "code",
   "execution_count": 43,
   "id": "47dd8519-875e-4ee3-9afa-e8316ef30895",
   "metadata": {},
   "outputs": [
    {
     "data": {
      "text/plain": [
       "[1, 1, 2, 2, 5, 6, 9]"
      ]
     },
     "execution_count": 43,
     "metadata": {},
     "output_type": "execute_result"
    }
   ],
   "source": [
    "l"
   ]
  },
  {
   "cell_type": "code",
   "execution_count": 44,
   "id": "92bdd620-cd17-460f-91bd-7406a0cf0b70",
   "metadata": {},
   "outputs": [],
   "source": [
    "# Método sort - usando reverse como parametro - coloca em ordem reversa\n",
    "l.sort(reverse = True)"
   ]
  },
  {
   "cell_type": "code",
   "execution_count": 45,
   "id": "c2f1f74d-7652-4ecf-bc39-f4232984caac",
   "metadata": {},
   "outputs": [
    {
     "data": {
      "text/plain": [
       "[9, 6, 5, 2, 2, 1, 1]"
      ]
     },
     "execution_count": 45,
     "metadata": {},
     "output_type": "execute_result"
    }
   ],
   "source": [
    "l"
   ]
  },
  {
   "cell_type": "code",
   "execution_count": null,
   "id": "5238deb2-b060-4ff1-a629-81cbc3f5bb80",
   "metadata": {},
   "outputs": [],
   "source": [
    "# Metodo reverse - Coloca em order reverva sem necessidade  de parametro"
   ]
  },
  {
   "cell_type": "code",
   "execution_count": 46,
   "id": "f9521e06-f677-4e6b-ad31-d525363e436a",
   "metadata": {},
   "outputs": [],
   "source": [
    "l.reverse()"
   ]
  },
  {
   "cell_type": "code",
   "execution_count": 47,
   "id": "202e1fb1-e97a-4bd6-9529-a55383e3cf11",
   "metadata": {},
   "outputs": [
    {
     "data": {
      "text/plain": [
       "[1, 1, 2, 2, 5, 6, 9]"
      ]
     },
     "execution_count": 47,
     "metadata": {},
     "output_type": "execute_result"
    }
   ],
   "source": [
    "l"
   ]
  },
  {
   "cell_type": "markdown",
   "id": "4c271a45-1de9-4c12-81a6-1f3a6c64dbac",
   "metadata": {},
   "source": [
    "## Dicionários\n",
    "Criados com {} no padrão chave:valor, separado por vírgulas\n",
    "*\n",
    "1. Acesso por  chave\n",
    "2. Modificação de elementos\n",
    "3. Adição de novos elementos\n",
    "4. Remoção de itens\n",
    "5. .keys()\n",
    "6. .values()\n",
    "7. .get()"
   ]
  },
  {
   "cell_type": "code",
   "execution_count": 49,
   "id": "46efa034-7d28-4258-8f64-0eca2406bfa5",
   "metadata": {},
   "outputs": [],
   "source": [
    "dicionario = {'Newton':1642, 'Einsten':1878,'Noether':1890}"
   ]
  },
  {
   "cell_type": "code",
   "execution_count": 50,
   "id": "bcd320b8-d79e-47a7-a468-a93219593d92",
   "metadata": {},
   "outputs": [
    {
     "data": {
      "text/plain": [
       "{'Newton': 1642, 'Einsten': 1878, 'Noether': 1890}"
      ]
     },
     "execution_count": 50,
     "metadata": {},
     "output_type": "execute_result"
    }
   ],
   "source": [
    "dicionario"
   ]
  },
  {
   "cell_type": "code",
   "execution_count": 51,
   "id": "30c79c5b-845c-4915-b1aa-181210ee9f53",
   "metadata": {},
   "outputs": [
    {
     "data": {
      "text/plain": [
       "1878"
      ]
     },
     "execution_count": 51,
     "metadata": {},
     "output_type": "execute_result"
    }
   ],
   "source": [
    "# Acessar pela  chave\n",
    "dicionario['Einsten']"
   ]
  },
  {
   "cell_type": "code",
   "execution_count": 52,
   "id": "93ce8d6f-b646-42b4-8661-591d97bcc3a0",
   "metadata": {},
   "outputs": [],
   "source": [
    "#Criando um dicionário\n",
    "\n",
    "joao = {\n",
    "    'data_nascimento':'20/01/1990',\n",
    "    'sexo':'masculino',\n",
    "    'telefone':'51997418290'\n",
    "}"
   ]
  },
  {
   "cell_type": "code",
   "execution_count": 53,
   "id": "ae11812e-9390-4443-bc64-4e6152729d58",
   "metadata": {},
   "outputs": [
    {
     "data": {
      "text/plain": [
       "'51997418290'"
      ]
     },
     "execution_count": 53,
     "metadata": {},
     "output_type": "execute_result"
    }
   ],
   "source": [
    "#Acessando uma informação do dicionário\n",
    "\n",
    "joao['telefone']"
   ]
  },
  {
   "cell_type": "code",
   "execution_count": 54,
   "id": "1b2441ca-8032-4e20-9fb6-19495a87bfae",
   "metadata": {},
   "outputs": [],
   "source": [
    "#Alterando uma informação do dicionário\n",
    "\n",
    "joao['telefone'] ='51997419390'"
   ]
  },
  {
   "cell_type": "code",
   "execution_count": 55,
   "id": "6c986694-9f35-44bb-852c-a0500df2bfc4",
   "metadata": {},
   "outputs": [
    {
     "data": {
      "text/plain": [
       "{'data_nascimento': '20/01/1990',\n",
       " 'sexo': 'masculino',\n",
       " 'telefone': '51997419390'}"
      ]
     },
     "execution_count": 55,
     "metadata": {},
     "output_type": "execute_result"
    }
   ],
   "source": [
    "joao"
   ]
  },
  {
   "cell_type": "code",
   "execution_count": 56,
   "id": "7a32ffbf-4a49-477b-a954-d9b22665d1e2",
   "metadata": {},
   "outputs": [],
   "source": [
    "# Adicionando uma nova informação no dicionário\n",
    "\n",
    "joao['carro']='HB20'"
   ]
  },
  {
   "cell_type": "code",
   "execution_count": 57,
   "id": "616eb785-1f1b-4fb6-9d71-d0a5d75b30ce",
   "metadata": {},
   "outputs": [
    {
     "data": {
      "text/plain": [
       "{'data_nascimento': '20/01/1990',\n",
       " 'sexo': 'masculino',\n",
       " 'telefone': '51997419390',\n",
       " 'carro': 'HB20'}"
      ]
     },
     "execution_count": 57,
     "metadata": {},
     "output_type": "execute_result"
    }
   ],
   "source": [
    "joao"
   ]
  },
  {
   "cell_type": "code",
   "execution_count": 58,
   "id": "0f6f0522-2343-4067-bbe7-78122e0e80e0",
   "metadata": {},
   "outputs": [],
   "source": [
    "# Removendo um item do dicionário\n",
    "\n",
    "del(joao['data_nascimento'])"
   ]
  },
  {
   "cell_type": "code",
   "execution_count": 59,
   "id": "e69e03bf-880e-4bf4-b6a3-a9a52e82f022",
   "metadata": {},
   "outputs": [
    {
     "data": {
      "text/plain": [
       "{'sexo': 'masculino', 'telefone': '51997419390', 'carro': 'HB20'}"
      ]
     },
     "execution_count": 59,
     "metadata": {},
     "output_type": "execute_result"
    }
   ],
   "source": [
    "joao"
   ]
  },
  {
   "cell_type": "code",
   "execution_count": 60,
   "id": "d2bf0c42-37a6-4959-a04e-405fa6e6fcce",
   "metadata": {},
   "outputs": [
    {
     "data": {
      "text/plain": [
       "dict_keys(['sexo', 'telefone', 'carro'])"
      ]
     },
     "execution_count": 60,
     "metadata": {},
     "output_type": "execute_result"
    }
   ],
   "source": [
    "# Olhar somente as chaves do dicionário\n",
    "\n",
    "joao.keys()"
   ]
  },
  {
   "cell_type": "code",
   "execution_count": 61,
   "id": "72f3fe84-2bbd-4633-90b4-eac79f93b1dc",
   "metadata": {},
   "outputs": [
    {
     "data": {
      "text/plain": [
       "dict_values(['masculino', '51997419390', 'HB20'])"
      ]
     },
     "execution_count": 61,
     "metadata": {},
     "output_type": "execute_result"
    }
   ],
   "source": [
    "# Olhar somente os valores do dicionário\n",
    "joao.values()"
   ]
  },
  {
   "cell_type": "code",
   "execution_count": 62,
   "id": "b4fa5dc9-bffe-4e73-8f2a-c74fc4238b5c",
   "metadata": {},
   "outputs": [],
   "source": [
    "# Método get - que permite aceder ao valor de uma chave sem causar um KeyError caso a chave não exista, retornando None ou um valor padrão especificado. \n",
    "\n",
    "joao.get('bairro')"
   ]
  },
  {
   "cell_type": "code",
   "execution_count": 63,
   "id": "be97959f-5f6f-4a2f-bb87-6b7b8ef0a0f3",
   "metadata": {},
   "outputs": [
    {
     "data": {
      "text/plain": [
       "'Não encontrado'"
      ]
     },
     "execution_count": 63,
     "metadata": {},
     "output_type": "execute_result"
    }
   ],
   "source": [
    "joao.get('bairro','Não encontrado')"
   ]
  },
  {
   "cell_type": "markdown",
   "id": "a2157d29-97ba-4163-8b54-cc68615eb538",
   "metadata": {},
   "source": [
    "## Listas dentro de listas e  dicionários dentro de dicionários"
   ]
  },
  {
   "cell_type": "code",
   "execution_count": 64,
   "id": "3adf6555-2adc-4265-ae62-e989559bb1b5",
   "metadata": {},
   "outputs": [],
   "source": [
    "lista2 = [1,[5,6], True]"
   ]
  },
  {
   "cell_type": "code",
   "execution_count": 66,
   "id": "465d7e7d-3d8f-4ed3-82d4-083260928e49",
   "metadata": {},
   "outputs": [
    {
     "data": {
      "text/plain": [
       "[1, [5, 6], True]"
      ]
     },
     "execution_count": 66,
     "metadata": {},
     "output_type": "execute_result"
    }
   ],
   "source": [
    "lista2"
   ]
  },
  {
   "cell_type": "code",
   "execution_count": 67,
   "id": "514a5cbc-cead-4451-92d0-81df7feac647",
   "metadata": {},
   "outputs": [
    {
     "data": {
      "text/plain": [
       "[5, 6]"
      ]
     },
     "execution_count": 67,
     "metadata": {},
     "output_type": "execute_result"
    }
   ],
   "source": [
    "# Acessando a lista da lista\n",
    "lista2[1]"
   ]
  },
  {
   "cell_type": "code",
   "execution_count": 72,
   "id": "aed99be5-31af-402f-89ec-8c217097996b",
   "metadata": {},
   "outputs": [
    {
     "data": {
      "text/plain": [
       "6"
      ]
     },
     "execution_count": 72,
     "metadata": {},
     "output_type": "execute_result"
    }
   ],
   "source": [
    "# Acessando o indice  da lista dentro da lista\n",
    "\n",
    "lista2[1][1]"
   ]
  },
  {
   "cell_type": "code",
   "execution_count": 80,
   "id": "ff6ff3d3-28bd-4efb-b1bc-529d0d3a7aa1",
   "metadata": {},
   "outputs": [],
   "source": [
    "# Dicionário dentro de outro\n",
    "\n",
    "outro_dicionario = {\n",
    "     1:'abujama',\n",
    "     'carro':'chevrolet',\n",
    "     'endereco':{\n",
    "         'bairro':'vila mariana',\n",
    "         'cidade':'sao paulo'\n",
    "}\n",
    "}"
   ]
  },
  {
   "cell_type": "code",
   "execution_count": 82,
   "id": "a02f5c77-e436-43ab-8a61-4c2afe1d3f80",
   "metadata": {},
   "outputs": [
    {
     "data": {
      "text/plain": [
       "{'bairro': 'vila mariana', 'cidade': 'sao paulo'}"
      ]
     },
     "execution_count": 82,
     "metadata": {},
     "output_type": "execute_result"
    }
   ],
   "source": [
    "outro_dicionario['endereco']"
   ]
  },
  {
   "cell_type": "code",
   "execution_count": 83,
   "id": "4655a5ba-93a9-4e3a-8858-f54bd316bb42",
   "metadata": {},
   "outputs": [
    {
     "data": {
      "text/plain": [
       "'sao paulo'"
      ]
     },
     "execution_count": 83,
     "metadata": {},
     "output_type": "execute_result"
    }
   ],
   "source": [
    "outro_dicionario['endereco']['cidade']"
   ]
  },
  {
   "cell_type": "markdown",
   "id": "22a08e8c-5d36-4b98-a2c5-834c8c2f298b",
   "metadata": {},
   "source": [
    "# Tuplas - São IMUTÁVEIS, não pode alterar nada.\n",
    "- Criadas com (), separado por vírgulas"
   ]
  },
  {
   "cell_type": "code",
   "execution_count": 84,
   "id": "2f95402d-8f5e-4565-9c91-765b971d0beb",
   "metadata": {},
   "outputs": [],
   "source": [
    "tupla =(1,2,3)"
   ]
  },
  {
   "cell_type": "code",
   "execution_count": 85,
   "id": "1485680c-09f5-474c-acd3-68250ab9d25c",
   "metadata": {},
   "outputs": [
    {
     "data": {
      "text/plain": [
       "(1, 2, 3)"
      ]
     },
     "execution_count": 85,
     "metadata": {},
     "output_type": "execute_result"
    }
   ],
   "source": [
    "tupla"
   ]
  },
  {
   "cell_type": "code",
   "execution_count": 86,
   "id": "01713b6a-09e9-407c-868d-9d8f160a70fa",
   "metadata": {},
   "outputs": [
    {
     "data": {
      "text/plain": [
       "2"
      ]
     },
     "execution_count": 86,
     "metadata": {},
     "output_type": "execute_result"
    }
   ],
   "source": [
    "#Indexação\n",
    "tupla[1]"
   ]
  },
  {
   "cell_type": "code",
   "execution_count": 87,
   "id": "05ceec64-2b5a-4733-be8b-e34a1161a01e",
   "metadata": {},
   "outputs": [
    {
     "data": {
      "text/plain": [
       "3"
      ]
     },
     "execution_count": 87,
     "metadata": {},
     "output_type": "execute_result"
    }
   ],
   "source": [
    "tupla[-1]"
   ]
  },
  {
   "cell_type": "markdown",
   "id": "a5cf09d7-3e66-4de7-8655-a2bcbc8cbe86",
   "metadata": {},
   "source": [
    "## Set\n",
    "São  conjuntos criados a partir de listas ou tuplas e não permitem elementos duplicados.\n",
    "\n",
    "Sets são eficientes para remover duplicados de listas"
   ]
  },
  {
   "cell_type": "code",
   "execution_count": 89,
   "id": "b3675f3e-ffbe-4fb9-bde5-1a6f3f816721",
   "metadata": {},
   "outputs": [
    {
     "data": {
      "text/plain": [
       "[1, 1, 2, 2, 5, 6, 9]"
      ]
     },
     "execution_count": 89,
     "metadata": {},
     "output_type": "execute_result"
    }
   ],
   "source": [
    "l"
   ]
  },
  {
   "cell_type": "code",
   "execution_count": 90,
   "id": "43f53f4c-4093-4548-9015-0a24d58b1e60",
   "metadata": {},
   "outputs": [],
   "source": [
    "meu_set = set(l)"
   ]
  },
  {
   "cell_type": "code",
   "execution_count": 91,
   "id": "55188a46-af5f-46d4-85ff-f20033c8d6ad",
   "metadata": {},
   "outputs": [
    {
     "data": {
      "text/plain": [
       "{1, 2, 5, 6, 9}"
      ]
     },
     "execution_count": 91,
     "metadata": {},
     "output_type": "execute_result"
    }
   ],
   "source": [
    "meu_set"
   ]
  },
  {
   "cell_type": "code",
   "execution_count": 92,
   "id": "edb9fd33-4a81-4979-b67e-aef7c6b8c75f",
   "metadata": {},
   "outputs": [
    {
     "data": {
      "text/plain": [
       "set"
      ]
     },
     "execution_count": 92,
     "metadata": {},
     "output_type": "execute_result"
    }
   ],
   "source": [
    "type(meu_set)"
   ]
  },
  {
   "cell_type": "markdown",
   "id": "c4923384-1e50-44d5-aaf0-56aff3b340e0",
   "metadata": {},
   "source": [
    "# Funções nativas e bibliotecas\n",
    "\n",
    "\"pedaços\" de códigos reutilizáveis.\n",
    "\n",
    "Exemplos:\n",
    "1. print()\n",
    "2. type()"
   ]
  },
  {
   "cell_type": "markdown",
   "id": "490b1afe-f747-40ca-b335-783ac5e2c679",
   "metadata": {},
   "source": [
    "## Biblioteca\n",
    "Funções, classes e ferramentas prontas que podemos acessar. \n",
    "\n",
    "Exemplo: math"
   ]
  },
  {
   "cell_type": "code",
   "execution_count": 94,
   "id": "519afdf1-4424-45a8-b988-a51c547dca0f",
   "metadata": {},
   "outputs": [],
   "source": [
    "import math #acesso a biblioteca e seus pacotes"
   ]
  },
  {
   "cell_type": "code",
   "execution_count": 95,
   "id": "8e308161-5569-4567-8167-b65dbe82224c",
   "metadata": {},
   "outputs": [
    {
     "data": {
      "text/plain": [
       "1.4142135623730951"
      ]
     },
     "execution_count": 95,
     "metadata": {},
     "output_type": "execute_result"
    }
   ],
   "source": [
    "math.sqrt(2) #uso da biblioteca"
   ]
  },
  {
   "cell_type": "code",
   "execution_count": 96,
   "id": "10047ce0-f14d-4bde-a1cb-bc41684f681b",
   "metadata": {},
   "outputs": [
    {
     "data": {
      "text/plain": [
       "3.141592653589793"
      ]
     },
     "execution_count": 96,
     "metadata": {},
     "output_type": "execute_result"
    }
   ],
   "source": [
    "math.pi #uso da biblioteca"
   ]
  },
  {
   "cell_type": "markdown",
   "id": "7795216b-281a-44a1-9486-1e4071ba7e3a",
   "metadata": {},
   "source": [
    "## Instalação de bibliotecas\n",
    "\n",
    "pip install (nome_da_lib) + import"
   ]
  },
  {
   "cell_type": "code",
   "execution_count": 97,
   "id": "ae5c5918-ec7f-4a9e-8472-a1b1fb157a6b",
   "metadata": {},
   "outputs": [
    {
     "name": "stdout",
     "output_type": "stream",
     "text": [
      "Requirement already satisfied: numpy in c:\\users\\ana carolina jacoby\\anaconda3\\lib\\site-packages (2.1.3)\n"
     ]
    }
   ],
   "source": [
    "!pip install numpy  # instalei a biblioteca numpy no meu ambiente"
   ]
  },
  {
   "cell_type": "code",
   "execution_count": 100,
   "id": "3fbaa4ee-39b2-4362-a699-4577097c3815",
   "metadata": {},
   "outputs": [],
   "source": [
    "import numpy as np #importei a biblioteca"
   ]
  },
  {
   "cell_type": "code",
   "execution_count": 101,
   "id": "96dec808-4ba2-4417-af43-3704b096a9f6",
   "metadata": {},
   "outputs": [
    {
     "data": {
      "text/plain": [
       "np.int64(204)"
      ]
     },
     "execution_count": 101,
     "metadata": {},
     "output_type": "execute_result"
    }
   ],
   "source": [
    "np.sum([1,2,5,6,190]) #pedi para a biblioteca me trazer a soma"
   ]
  },
  {
   "cell_type": "code",
   "execution_count": 102,
   "id": "1c623a9a-7769-4555-971f-3ea46aa564fb",
   "metadata": {},
   "outputs": [
    {
     "data": {
      "text/plain": [
       "3.141592653589793"
      ]
     },
     "execution_count": 102,
     "metadata": {},
     "output_type": "execute_result"
    }
   ],
   "source": [
    "np.pi"
   ]
  },
  {
   "cell_type": "code",
   "execution_count": 105,
   "id": "ac996dbe-64ef-423a-8658-f9a96c5e8e54",
   "metadata": {},
   "outputs": [],
   "source": [
    "from numpy import linspace  # pegar somente algunas funções de uma biblioteca"
   ]
  },
  {
   "cell_type": "code",
   "execution_count": 106,
   "id": "77bc3b68-a6d7-40ad-86ff-be2eb7c1293a",
   "metadata": {},
   "outputs": [
    {
     "data": {
      "text/plain": [
       "array([0.        , 0.11111111, 0.22222222, 0.33333333, 0.44444444,\n",
       "       0.55555556, 0.66666667, 0.77777778, 0.88888889, 1.        ])"
      ]
     },
     "execution_count": 106,
     "metadata": {},
     "output_type": "execute_result"
    }
   ],
   "source": [
    "linspace(0,1,10)"
   ]
  },
  {
   "cell_type": "code",
   "execution_count": null,
   "id": "8f4cd1d5-8aba-4075-9bf6-6edc5cc2dd0c",
   "metadata": {},
   "outputs": [],
   "source": []
  }
 ],
 "metadata": {
  "kernelspec": {
   "display_name": "Python 3 (ipykernel)",
   "language": "python",
   "name": "python3"
  },
  "language_info": {
   "codemirror_mode": {
    "name": "ipython",
    "version": 3
   },
   "file_extension": ".py",
   "mimetype": "text/x-python",
   "name": "python",
   "nbconvert_exporter": "python",
   "pygments_lexer": "ipython3",
   "version": "3.13.5"
  }
 },
 "nbformat": 4,
 "nbformat_minor": 5
}
